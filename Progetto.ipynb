{
 "cells": [
  {
   "cell_type": "markdown",
   "id": "36cd3966",
   "metadata": {},
   "source": [
    "# Progetto per il corso di Social Media Management"
   ]
  },
  {
   "cell_type": "markdown",
   "id": "f2d2f8aa",
   "metadata": {},
   "source": [
    "> #### Informazioni studente e corso\n",
    ">\n",
    "> - **Nome**: Samuele Maria\n",
    "> - **Cognome**: Gallina\n",
    "> - **Matricola**: 1000001478\n",
    "> - **Corso**: Social Media Management\n",
    "> - **Anno accademico**: 2021/2022"
   ]
  },
  {
   "cell_type": "markdown",
   "id": "47458508",
   "metadata": {},
   "source": [
    "## 1. Introduzione"
   ]
  },
  {
   "cell_type": "markdown",
   "id": "57e2c361",
   "metadata": {},
   "source": [
    "Nel seguente progetto sarà realizzato un classificatore di topic, in particolare: i testi saranno i contenuti di vari tweets.<br> A causa dei limiti temporali che impongono le API di Twitter, per ottenere il set di dati invece di procedere tramite delle richieste, i tweets verranno ottenuti semplicemente da dei file dove sono conservati questi dati. <br>\n",
    "Per il training saranno dati in input diversi testi, ogni testo ha una label associata che ne indica il topic. <br>\n",
    "L'obiettivo è creare un sistema che datogli il testo di un tweet riesca a capire quale sia il suo topic."
   ]
  },
  {
   "cell_type": "markdown",
   "id": "30d9c820",
   "metadata": {},
   "source": [
    "## 2. Costruzione del dataset"
   ]
  },
  {
   "cell_type": "markdown",
   "id": "64350dab",
   "metadata": {},
   "source": [
    "Per costruire il dataset saranno usati dei dataset più piccoli che verranno poi uniti, ogni dataset è relativo a un topic.<br>\n",
    "Lista dei topic:\n",
    "> - Compagnie Americane di voli\n",
    "> - Metaverso\n",
    "> - Covid/Vaccino\n",
    "> - Bitcoin/Crypto\n",
    "> - Cambiamenti climatici\n",
    "> - Impeachment di Trump/Trump in generale\n",
    "> - Guerra Ucraina-Russia"
   ]
  },
  {
   "cell_type": "markdown",
   "id": "dc48fdbe",
   "metadata": {},
   "source": [
    "I dataset sono stati presi dai seguenti link <br>\n",
    "> - https://data.world/socialmediadata/twitter-us-airline-sentiment/workspace/file?filename=Airline-Sentiment-2-w-AA.csv\n",
    "> - https://www.kaggle.com/datasets/mathurinache/metaverse-tweets\n",
    "> - https://www.kaggle.com/datasets/yazanshannak/us-covid-tweets\n",
    "> - https://www.kaggle.com/datasets/skularat/bitcoin-tweets\n",
    "> - https://www.kaggle.com/datasets/edqian/twitter-climate-change-sentiment-dataset\n",
    "> - https://www.kaggle.com/datasets/jazmiaevonhenry/impeachment-tweet-data\n",
    "> - https://www.kaggle.com/datasets/foklacu/ukraine-war-tweets-dataset-65-days?resource=download&select=Ukraine_war.csv"
   ]
  },
  {
   "cell_type": "markdown",
   "id": "972695fd",
   "metadata": {},
   "source": [
    "Ognuno di essi è stato modificato affinchè contenesse 5000 osservazioni e affichè ogni osservazione fosse composta da 2 attributi ovvero: tweet_text (banalmente il testo del tweet) e topic."
   ]
  },
  {
   "cell_type": "code",
   "execution_count": 1,
   "id": "578053ff",
   "metadata": {},
   "outputs": [],
   "source": [
    "import pandas as pd"
   ]
  },
  {
   "cell_type": "code",
   "execution_count": 2,
   "id": "ba4b62f8",
   "metadata": {},
   "outputs": [
    {
     "data": {
      "text/html": [
       "<div>\n",
       "<style scoped>\n",
       "    .dataframe tbody tr th:only-of-type {\n",
       "        vertical-align: middle;\n",
       "    }\n",
       "\n",
       "    .dataframe tbody tr th {\n",
       "        vertical-align: top;\n",
       "    }\n",
       "\n",
       "    .dataframe thead th {\n",
       "        text-align: right;\n",
       "    }\n",
       "</style>\n",
       "<table border=\"1\" class=\"dataframe\">\n",
       "  <thead>\n",
       "    <tr style=\"text-align: right;\">\n",
       "      <th></th>\n",
       "      <th>tweet_text</th>\n",
       "      <th>topic</th>\n",
       "    </tr>\n",
       "  </thead>\n",
       "  <tbody>\n",
       "    <tr>\n",
       "      <th>0</th>\n",
       "      <td>@united DM'd you 4 hrs ago at your request. No...</td>\n",
       "      <td>USair</td>\n",
       "    </tr>\n",
       "    <tr>\n",
       "      <th>1</th>\n",
       "      <td>@SouthwestAir Free TV watching Daytona 500! #B...</td>\n",
       "      <td>USair</td>\n",
       "    </tr>\n",
       "    <tr>\n",
       "      <th>2</th>\n",
       "      <td>@USAirways - so far so good this week. SAV to ...</td>\n",
       "      <td>USair</td>\n",
       "    </tr>\n",
       "    <tr>\n",
       "      <th>3</th>\n",
       "      <td>@AmericanAir you can't change my flights and n...</td>\n",
       "      <td>USair</td>\n",
       "    </tr>\n",
       "    <tr>\n",
       "      <th>4</th>\n",
       "      <td>@AmericanAir u r horrible.went online to Cance...</td>\n",
       "      <td>USair</td>\n",
       "    </tr>\n",
       "  </tbody>\n",
       "</table>\n",
       "</div>"
      ],
      "text/plain": [
       "                                          tweet_text  topic\n",
       "0  @united DM'd you 4 hrs ago at your request. No...  USair\n",
       "1  @SouthwestAir Free TV watching Daytona 500! #B...  USair\n",
       "2  @USAirways - so far so good this week. SAV to ...  USair\n",
       "3  @AmericanAir you can't change my flights and n...  USair\n",
       "4  @AmericanAir u r horrible.went online to Cance...  USair"
      ]
     },
     "execution_count": 2,
     "metadata": {},
     "output_type": "execute_result"
    }
   ],
   "source": [
    "dfAir = pd.read_csv ('datasets/USair.csv',encoding='latin-1')\n",
    "dfAir.head()"
   ]
  },
  {
   "cell_type": "code",
   "execution_count": 3,
   "id": "61ff4c58",
   "metadata": {},
   "outputs": [
    {
     "data": {
      "text/html": [
       "<div>\n",
       "<style scoped>\n",
       "    .dataframe tbody tr th:only-of-type {\n",
       "        vertical-align: middle;\n",
       "    }\n",
       "\n",
       "    .dataframe tbody tr th {\n",
       "        vertical-align: top;\n",
       "    }\n",
       "\n",
       "    .dataframe thead th {\n",
       "        text-align: right;\n",
       "    }\n",
       "</style>\n",
       "<table border=\"1\" class=\"dataframe\">\n",
       "  <thead>\n",
       "    <tr style=\"text-align: right;\">\n",
       "      <th></th>\n",
       "      <th>tweet_text</th>\n",
       "      <th>topic</th>\n",
       "    </tr>\n",
       "  </thead>\n",
       "  <tbody>\n",
       "    <tr>\n",
       "      <th>0</th>\n",
       "      <td>RT @GymRewards: https://t.co/Bm9sIxiiwU  Check...</td>\n",
       "      <td>bitcoin</td>\n",
       "    </tr>\n",
       "    <tr>\n",
       "      <th>1</th>\n",
       "      <td>Install CryptoTab and mine Bitcoin! https://t....</td>\n",
       "      <td>bitcoin</td>\n",
       "    </tr>\n",
       "    <tr>\n",
       "      <th>2</th>\n",
       "      <td>RT @bethereumteam: Today we are presenting Bet...</td>\n",
       "      <td>bitcoin</td>\n",
       "    </tr>\n",
       "    <tr>\n",
       "      <th>3</th>\n",
       "      <td>Bug Caught That Allowed Coinbase Users to Garn...</td>\n",
       "      <td>bitcoin</td>\n",
       "    </tr>\n",
       "    <tr>\n",
       "      <th>4</th>\n",
       "      <td>RT @Khanoisseur: Securing government systems a...</td>\n",
       "      <td>bitcoin</td>\n",
       "    </tr>\n",
       "  </tbody>\n",
       "</table>\n",
       "</div>"
      ],
      "text/plain": [
       "                                          tweet_text    topic\n",
       "0  RT @GymRewards: https://t.co/Bm9sIxiiwU  Check...  bitcoin\n",
       "1  Install CryptoTab and mine Bitcoin! https://t....  bitcoin\n",
       "2  RT @bethereumteam: Today we are presenting Bet...  bitcoin\n",
       "3  Bug Caught That Allowed Coinbase Users to Garn...  bitcoin\n",
       "4  RT @Khanoisseur: Securing government systems a...  bitcoin"
      ]
     },
     "execution_count": 3,
     "metadata": {},
     "output_type": "execute_result"
    }
   ],
   "source": [
    "dfBTC = pd.read_csv ('datasets/bitcoin.csv',encoding='latin-1')\n",
    "dfBTC.head()"
   ]
  },
  {
   "cell_type": "code",
   "execution_count": 4,
   "id": "7feb1348",
   "metadata": {},
   "outputs": [
    {
     "data": {
      "text/html": [
       "<div>\n",
       "<style scoped>\n",
       "    .dataframe tbody tr th:only-of-type {\n",
       "        vertical-align: middle;\n",
       "    }\n",
       "\n",
       "    .dataframe tbody tr th {\n",
       "        vertical-align: top;\n",
       "    }\n",
       "\n",
       "    .dataframe thead th {\n",
       "        text-align: right;\n",
       "    }\n",
       "</style>\n",
       "<table border=\"1\" class=\"dataframe\">\n",
       "  <thead>\n",
       "    <tr style=\"text-align: right;\">\n",
       "      <th></th>\n",
       "      <th>tweet_text</th>\n",
       "      <th>topic</th>\n",
       "    </tr>\n",
       "  </thead>\n",
       "  <tbody>\n",
       "    <tr>\n",
       "      <th>0</th>\n",
       "      <td>ÃÂ¢Ã",
       "Â¡ÃÂ¡ The Paris Agreement on climate ch...</td>\n",
       "      <td>climateChange</td>\n",
       "    </tr>\n",
       "    <tr>\n",
       "      <th>1</th>\n",
       "      <td>@drewf000 in this way Jainism actually helps i...</td>\n",
       "      <td>climateChange</td>\n",
       "    </tr>\n",
       "    <tr>\n",
       "      <th>2</th>\n",
       "      <td>RT @sierraclub: âFuture Generationsâ Sue O...</td>\n",
       "      <td>climateChange</td>\n",
       "    </tr>\n",
       "    <tr>\n",
       "      <th>3</th>\n",
       "      <td>RT @mrkjsnsbyn: pls use your voices on climate...</td>\n",
       "      <td>climateChange</td>\n",
       "    </tr>\n",
       "    <tr>\n",
       "      <th>4</th>\n",
       "      <td>RT @GrouciDjamila: For all those who still nee...</td>\n",
       "      <td>climateChange</td>\n",
       "    </tr>\n",
       "  </tbody>\n",
       "</table>\n",
       "</div>"
      ],
      "text/plain": [
       "                                          tweet_text          topic\n",
       "0  ÃÂ¢Ã\n",
       "Â¡ÃÂ¡ The Paris Agreement on climate ch...  climateChange\n",
       "1  @drewf000 in this way Jainism actually helps i...  climateChange\n",
       "2  RT @sierraclub: âFuture Generationsâ Sue O...  climateChange\n",
       "3  RT @mrkjsnsbyn: pls use your voices on climate...  climateChange\n",
       "4  RT @GrouciDjamila: For all those who still nee...  climateChange"
      ]
     },
     "execution_count": 4,
     "metadata": {},
     "output_type": "execute_result"
    }
   ],
   "source": [
    "dfCC = pd.read_csv ('datasets/climateChange.csv',encoding='latin-1')\n",
    "dfCC.head()"
   ]
  },
  {
   "cell_type": "code",
   "execution_count": 5,
   "id": "58b44c7b",
   "metadata": {},
   "outputs": [
    {
     "data": {
      "text/html": [
       "<div>\n",
       "<style scoped>\n",
       "    .dataframe tbody tr th:only-of-type {\n",
       "        vertical-align: middle;\n",
       "    }\n",
       "\n",
       "    .dataframe tbody tr th {\n",
       "        vertical-align: top;\n",
       "    }\n",
       "\n",
       "    .dataframe thead th {\n",
       "        text-align: right;\n",
       "    }\n",
       "</style>\n",
       "<table border=\"1\" class=\"dataframe\">\n",
       "  <thead>\n",
       "    <tr style=\"text-align: right;\">\n",
       "      <th></th>\n",
       "      <th>tweet_text</th>\n",
       "      <th>topic</th>\n",
       "    </tr>\n",
       "  </thead>\n",
       "  <tbody>\n",
       "    <tr>\n",
       "      <th>0</th>\n",
       "      <td>Thinking about how much has changed in a year ...</td>\n",
       "      <td>covid</td>\n",
       "    </tr>\n",
       "    <tr>\n",
       "      <th>1</th>\n",
       "      <td>A beautiful gesture  \\r\\n#ottnews  #Ottawa  #C...</td>\n",
       "      <td>covid</td>\n",
       "    </tr>\n",
       "    <tr>\n",
       "      <th>2</th>\n",
       "      <td>Spite is becoming more overrated by the hour! ...</td>\n",
       "      <td>covid</td>\n",
       "    </tr>\n",
       "    <tr>\n",
       "      <th>3</th>\n",
       "      <td>Destroying nature unleashes destructive diseas...</td>\n",
       "      <td>covid</td>\n",
       "    </tr>\n",
       "    <tr>\n",
       "      <th>4</th>\n",
       "      <td># COVID19  can't get out more. Gotta keep the ...</td>\n",
       "      <td>covid</td>\n",
       "    </tr>\n",
       "  </tbody>\n",
       "</table>\n",
       "</div>"
      ],
      "text/plain": [
       "                                          tweet_text  topic\n",
       "0  Thinking about how much has changed in a year ...  covid\n",
       "1  A beautiful gesture  \\r\\n#ottnews  #Ottawa  #C...  covid\n",
       "2  Spite is becoming more overrated by the hour! ...  covid\n",
       "3  Destroying nature unleashes destructive diseas...  covid\n",
       "4  # COVID19  can't get out more. Gotta keep the ...  covid"
      ]
     },
     "execution_count": 5,
     "metadata": {},
     "output_type": "execute_result"
    }
   ],
   "source": [
    "dfCV = pd.read_csv ('datasets/covid.csv',encoding='latin-1')\n",
    "dfCV.head()"
   ]
  },
  {
   "cell_type": "code",
   "execution_count": 6,
   "id": "c1a903bf",
   "metadata": {},
   "outputs": [
    {
     "data": {
      "text/html": [
       "<div>\n",
       "<style scoped>\n",
       "    .dataframe tbody tr th:only-of-type {\n",
       "        vertical-align: middle;\n",
       "    }\n",
       "\n",
       "    .dataframe tbody tr th {\n",
       "        vertical-align: top;\n",
       "    }\n",
       "\n",
       "    .dataframe thead th {\n",
       "        text-align: right;\n",
       "    }\n",
       "</style>\n",
       "<table border=\"1\" class=\"dataframe\">\n",
       "  <thead>\n",
       "    <tr style=\"text-align: right;\">\n",
       "      <th></th>\n",
       "      <th>tweet_text</th>\n",
       "      <th>topic</th>\n",
       "    </tr>\n",
       "  </thead>\n",
       "  <tbody>\n",
       "    <tr>\n",
       "      <th>0</th>\n",
       "      <td>@algometaspatial Good and perfect project to e...</td>\n",
       "      <td>meta</td>\n",
       "    </tr>\n",
       "    <tr>\n",
       "      <th>1</th>\n",
       "      <td>Holding #saitama or #SHIB Then REALITY is \\r\\n...</td>\n",
       "      <td>meta</td>\n",
       "    </tr>\n",
       "    <tr>\n",
       "      <th>2</th>\n",
       "      <td>@KnightMonter11 always success for the develop...</td>\n",
       "      <td>meta</td>\n",
       "    </tr>\n",
       "    <tr>\n",
       "      <th>3</th>\n",
       "      <td>@kudomoney @AvStarCapital that's is really min...</td>\n",
       "      <td>meta</td>\n",
       "    </tr>\n",
       "    <tr>\n",
       "      <th>4</th>\n",
       "      <td>Feeling like it could finally be my turn to ha...</td>\n",
       "      <td>meta</td>\n",
       "    </tr>\n",
       "  </tbody>\n",
       "</table>\n",
       "</div>"
      ],
      "text/plain": [
       "                                          tweet_text topic\n",
       "0  @algometaspatial Good and perfect project to e...  meta\n",
       "1  Holding #saitama or #SHIB Then REALITY is \\r\\n...  meta\n",
       "2  @KnightMonter11 always success for the develop...  meta\n",
       "3  @kudomoney @AvStarCapital that's is really min...  meta\n",
       "4  Feeling like it could finally be my turn to ha...  meta"
      ]
     },
     "execution_count": 6,
     "metadata": {},
     "output_type": "execute_result"
    }
   ],
   "source": [
    "dfMT = pd.read_csv ('datasets/meta.csv',encoding='latin-1')\n",
    "dfMT.head()"
   ]
  },
  {
   "cell_type": "code",
   "execution_count": 7,
   "id": "5ebaf3f5",
   "metadata": {},
   "outputs": [
    {
     "data": {
      "text/html": [
       "<div>\n",
       "<style scoped>\n",
       "    .dataframe tbody tr th:only-of-type {\n",
       "        vertical-align: middle;\n",
       "    }\n",
       "\n",
       "    .dataframe tbody tr th {\n",
       "        vertical-align: top;\n",
       "    }\n",
       "\n",
       "    .dataframe thead th {\n",
       "        text-align: right;\n",
       "    }\n",
       "</style>\n",
       "<table border=\"1\" class=\"dataframe\">\n",
       "  <thead>\n",
       "    <tr style=\"text-align: right;\">\n",
       "      <th></th>\n",
       "      <th>tweet_text</th>\n",
       "      <th>topic</th>\n",
       "    </tr>\n",
       "  </thead>\n",
       "  <tbody>\n",
       "    <tr>\n",
       "      <th>0</th>\n",
       "      <td>Disgusting dead beat dad cheated on his wife a...</td>\n",
       "      <td>Imp</td>\n",
       "    </tr>\n",
       "    <tr>\n",
       "      <th>1</th>\n",
       "      <td>RT During trumps 2nd impeachment trial there s...</td>\n",
       "      <td>Imp</td>\n",
       "    </tr>\n",
       "    <tr>\n",
       "      <th>2</th>\n",
       "      <td>RT Al Green amp Company</td>\n",
       "      <td>Imp</td>\n",
       "    </tr>\n",
       "    <tr>\n",
       "      <th>3</th>\n",
       "      <td>House Democrats are proposing to limit the nex...</td>\n",
       "      <td>Imp</td>\n",
       "    </tr>\n",
       "    <tr>\n",
       "      <th>4</th>\n",
       "      <td>Have enough courage to do your job or step asi...</td>\n",
       "      <td>Imp</td>\n",
       "    </tr>\n",
       "  </tbody>\n",
       "</table>\n",
       "</div>"
      ],
      "text/plain": [
       "                                          tweet_text topic\n",
       "0  Disgusting dead beat dad cheated on his wife a...   Imp\n",
       "1  RT During trumps 2nd impeachment trial there s...   Imp\n",
       "2                            RT Al Green amp Company   Imp\n",
       "3  House Democrats are proposing to limit the nex...   Imp\n",
       "4  Have enough courage to do your job or step asi...   Imp"
      ]
     },
     "execution_count": 7,
     "metadata": {},
     "output_type": "execute_result"
    }
   ],
   "source": [
    "dfImp = pd.read_csv ('datasets/Imp.csv',encoding='latin-1')\n",
    "dfImp.head()"
   ]
  },
  {
   "cell_type": "code",
   "execution_count": 8,
   "id": "cdec5ab4",
   "metadata": {},
   "outputs": [
    {
     "data": {
      "text/html": [
       "<div>\n",
       "<style scoped>\n",
       "    .dataframe tbody tr th:only-of-type {\n",
       "        vertical-align: middle;\n",
       "    }\n",
       "\n",
       "    .dataframe tbody tr th {\n",
       "        vertical-align: top;\n",
       "    }\n",
       "\n",
       "    .dataframe thead th {\n",
       "        text-align: right;\n",
       "    }\n",
       "</style>\n",
       "<table border=\"1\" class=\"dataframe\">\n",
       "  <thead>\n",
       "    <tr style=\"text-align: right;\">\n",
       "      <th></th>\n",
       "      <th>tweet_text</th>\n",
       "      <th>topic</th>\n",
       "    </tr>\n",
       "  </thead>\n",
       "  <tbody>\n",
       "    <tr>\n",
       "      <th>0</th>\n",
       "      <td>@SamRamani2 For those old enough to remember R...</td>\n",
       "      <td>warUKRU</td>\n",
       "    </tr>\n",
       "    <tr>\n",
       "      <th>1</th>\n",
       "      <td>@EndlessNexus @jh_swanson Youre making hypothe...</td>\n",
       "      <td>warUKRU</td>\n",
       "    </tr>\n",
       "    <tr>\n",
       "      <th>2</th>\n",
       "      <td>@OlgaNYC1211 @stephenwertheim No it was the Na...</td>\n",
       "      <td>warUKRU</td>\n",
       "    </tr>\n",
       "    <tr>\n",
       "      <th>3</th>\n",
       "      <td>@jjhorgan @BrittnyAnderso These people are the...</td>\n",
       "      <td>warUKRU</td>\n",
       "    </tr>\n",
       "    <tr>\n",
       "      <th>4</th>\n",
       "      <td>'Whose side are you on?': Russia war threat sh...</td>\n",
       "      <td>warUKRU</td>\n",
       "    </tr>\n",
       "  </tbody>\n",
       "</table>\n",
       "</div>"
      ],
      "text/plain": [
       "                                          tweet_text    topic\n",
       "0  @SamRamani2 For those old enough to remember R...  warUKRU\n",
       "1  @EndlessNexus @jh_swanson Youre making hypothe...  warUKRU\n",
       "2  @OlgaNYC1211 @stephenwertheim No it was the Na...  warUKRU\n",
       "3  @jjhorgan @BrittnyAnderso These people are the...  warUKRU\n",
       "4  'Whose side are you on?': Russia war threat sh...  warUKRU"
      ]
     },
     "execution_count": 8,
     "metadata": {},
     "output_type": "execute_result"
    }
   ],
   "source": [
    "dfwarUKRU = pd.read_csv ('datasets/warUKRU.csv',encoding='latin-1')\n",
    "dfwarUKRU.head()"
   ]
  },
  {
   "cell_type": "markdown",
   "id": "aa4c0602",
   "metadata": {},
   "source": [
    "Creiamo un unico grande dataset con una funzione di concatenazione:"
   ]
  },
  {
   "cell_type": "code",
   "execution_count": 9,
   "id": "28020933",
   "metadata": {
    "scrolled": true
   },
   "outputs": [
    {
     "name": "stdout",
     "output_type": "stream",
     "text": [
      "<class 'pandas.core.frame.DataFrame'>\n",
      "Int64Index: 34824 entries, 0 to 34999\n",
      "Data columns (total 2 columns):\n",
      " #   Column      Non-Null Count  Dtype \n",
      "---  ------      --------------  ----- \n",
      " 0   tweet_text  34824 non-null  object\n",
      " 1   topic       34824 non-null  object\n",
      "dtypes: object(2)\n",
      "memory usage: 816.2+ KB\n"
     ]
    }
   ],
   "source": [
    "Tweet = pd.concat([dfAir,dfBTC,dfCC,dfCV,dfMT,dfImp,dfwarUKRU], ignore_index=True)\n",
    "#nel dubbio facciamo una drop sui na\n",
    "Tweet = Tweet.dropna(how='any')\n",
    "Tweet.info()"
   ]
  },
  {
   "cell_type": "markdown",
   "id": "92bfc7a9",
   "metadata": {},
   "source": [
    "## 3. Otteniamo una rappresentazione numerica dei nostri dati\n",
    "### 3.1 Usiamo Bag of Words"
   ]
  },
  {
   "cell_type": "markdown",
   "id": "1ff5bc23",
   "metadata": {},
   "source": [
    "Dobbiamo trovare un modo per rappresentare i testi, ovvero trovare un vettore per ognuno di essi. <br>\n",
    "L'obiettivo è ottenere delle rappresentazioni idonee ad allenare il modello.<br>\n",
    "Iniziamo usando una semplice rappresentazione Bag of Words. <br>\n",
    "Come passo preliminare però rimuoviamo le stop words all'interno dei tweets, ci sono diverse words che potrebbero risultare fastidiose come \"RT\" (sta per retweet), \"@\" e \"#\" che normalmente non sarebbero delle stop words, ma le rimuoviamo comunque dato che sono molto presenti (e poco informative) nel dataset."
   ]
  },
  {
   "cell_type": "markdown",
   "id": "be5b1902",
   "metadata": {},
   "source": [
    "### 3.2 Preprocessing sui testi"
   ]
  },
  {
   "cell_type": "markdown",
   "id": "276d3cb7",
   "metadata": {},
   "source": [
    "Importiamo il pacchetto stopwords da nltk, avremo a questo punto l'elenco delle stop words in inglese, aggiungiamo all'elenco altre parole/token a nostra discrezione."
   ]
  },
  {
   "cell_type": "code",
   "execution_count": 10,
   "id": "fbf78360",
   "metadata": {},
   "outputs": [],
   "source": [
    "from nltk.corpus import stopwords  \n",
    "from nltk.tokenize import word_tokenize\n",
    "\n",
    "# stopwords list \n",
    "stop_words = stopwords.words('english')\n",
    "stop_words.append(\"RT\")\n",
    "stop_words.append(\"@\")\n",
    "stop_words.append(\"#\")"
   ]
  },
  {
   "cell_type": "markdown",
   "id": "377cfe2b",
   "metadata": {},
   "source": [
    "Adesso rimuoviamo i token che appartengono all'insieme stop_words dai testi contenuti in Tweet."
   ]
  },
  {
   "cell_type": "code",
   "execution_count": 11,
   "id": "0c0ed83d",
   "metadata": {},
   "outputs": [],
   "source": [
    "from nltk.tokenize.treebank import TreebankWordDetokenizer\n",
    "r = range(len(Tweet))\n",
    "for i in r:\n",
    "    word_tokens = word_tokenize(Tweet.iloc[i][0]) \n",
    "    filtered_sentence = [w for w in word_tokens if not w in stop_words]\n",
    "    new_text = TreebankWordDetokenizer().detokenize(filtered_sentence)\n",
    "    Tweet.iloc[i][0] = new_text"
   ]
  },
  {
   "cell_type": "markdown",
   "id": "243f4077",
   "metadata": {},
   "source": [
    "## 4. Costruiamo il classificatore"
   ]
  },
  {
   "cell_type": "markdown",
   "id": "82888c2c",
   "metadata": {},
   "source": [
    "### 4.1 Suddividiamo il dataset"
   ]
  },
  {
   "cell_type": "markdown",
   "id": "08a505f9",
   "metadata": {},
   "source": [
    "Otteniamo due sottoinsiemi di tweets relativi al campo tweet_text e al campo topic (quindi la label)."
   ]
  },
  {
   "cell_type": "code",
   "execution_count": 12,
   "id": "11434560",
   "metadata": {},
   "outputs": [],
   "source": [
    "text = Tweet['tweet_text']\n",
    "labels = Tweet['topic']"
   ]
  },
  {
   "cell_type": "markdown",
   "id": "a18bac29",
   "metadata": {},
   "source": [
    "Importiamo e utilizziamo le funzioni CountVectorizer e train_test_split, esse servono rispettivamente a ottenere la rappresentazione BOW e a suddividere il dataset in 2 dataset più piccoli: il training set e il test set. <br>\n",
    "In questo caso usiamo la funzione per suddividere text e labels ottenendo:\n",
    "> - X_train: testi da usare nella fase di training\n",
    "> - X_test: testi da usare nella fase di test\n",
    "> - y_train: topic/label da usare nella fase di training\n",
    "> - y_test: topic/label da usare nella fase di test\n",
    "\n",
    "Tramite la funzione CountVectorizer otteniamo un oggetto che chiamiamo count_vect1 che dovremo poi allenare su X_train; la funzione, oltre ad eseguire la \"fit\", eseguirà anche la \"transform\": si otterrà dunque la rappresentazione degli oggetti in X_train. <br>\n",
    "Facciamo tutto questo con la funzione fit_transform, conserviamo la rappresentazione di X_train in vec_data_train (una matrice sparsa, quindi molto efficiente in termini di uso della memoria)."
   ]
  },
  {
   "cell_type": "code",
   "execution_count": 13,
   "id": "464f2f5b",
   "metadata": {},
   "outputs": [],
   "source": [
    "from sklearn.feature_extraction.text import CountVectorizer\n",
    "from sklearn.model_selection import train_test_split\n",
    "\n",
    "X_train, X_test, y_train, y_test = train_test_split(text, labels, test_size=0.25, random_state=0)\n",
    "\n",
    "count_vect1 = CountVectorizer()\n",
    "vec_data_train = count_vect1.fit_transform(X_train)"
   ]
  },
  {
   "cell_type": "markdown",
   "id": "ba366442",
   "metadata": {},
   "source": [
    "### 4.2 Costruzione di un modello basato sul classificatore Multinomial Naive Bayes"
   ]
  },
  {
   "cell_type": "markdown",
   "id": "8bb67580",
   "metadata": {},
   "source": [
    "Importiamo tutti i pacchetti tra cui anche quelli necessari per valutare la qualità del modello."
   ]
  },
  {
   "cell_type": "code",
   "execution_count": 14,
   "id": "b4cf37d5",
   "metadata": {},
   "outputs": [
    {
     "name": "stdout",
     "output_type": "stream",
     "text": [
      "0.9584194808178268\n",
      "F1-scores:  [0.92662474 0.98824483 0.94304069 0.97937727 0.95866515 0.96609493\n",
      " 0.94555215]\n"
     ]
    },
    {
     "data": {
      "text/plain": [
       "<sklearn.metrics._plot.confusion_matrix.ConfusionMatrixDisplay at 0x1d0adcd8eb0>"
      ]
     },
     "execution_count": 14,
     "metadata": {},
     "output_type": "execute_result"
    },
    {
     "data": {
      "image/png": "[encoded data removed]",
      "text/plain": [
       "<Figure size 432x288 with 2 Axes>"
      ]
     },
     "metadata": {
      "needs_background": "light"
     },
     "output_type": "display_data"
    }
   ],
   "source": [
    "from sklearn.naive_bayes import MultinomialNB\n",
    "from sklearn.metrics import f1_score, accuracy_score, classification_report , confusion_matrix\n",
    "import numpy as np\n",
    "\n",
    "mnb1 = MultinomialNB()\n",
    "mnb1.fit(vec_data_train, y_train)\n",
    "\n",
    "vec_data_test = count_vect1.transform(X_test)\n",
    "pred = mnb1.predict(vec_data_test)\n",
    "\n",
    "print(accuracy_score(y_test, pred))\n",
    "\n",
    "f1_scores = f1_score(y_test,pred,average=None)\n",
    "print(\"F1-scores: \", f1_scores)\n",
    "\n",
    "from sklearn.metrics import ConfusionMatrixDisplay\n",
    "ConfusionMatrixDisplay.from_predictions(y_test,pred,xticks_rotation='vertical')"
   ]
  },
  {
   "cell_type": "markdown",
   "id": "232b4607",
   "metadata": {},
   "source": [
    "I risultati ottenuti sono relativi a un modello che considera le parole chiave principali del dataset.<br>\n",
    "Per fare un esempio, il dataset relativo al topic \"bitcoin\" è costruito ottenendo tweets con il token \"bitcoin\" tramite API: questa procedura potrebbe aver reso molto semplice il problema. <br>\n",
    "Cosa succederebbe se non considerassimo queste parole chiave nell'allenamento del modello?"
   ]
  },
  {
   "cell_type": "markdown",
   "id": "b97b3d11",
   "metadata": {},
   "source": [
    "### 4.3 Test sul comportamento del modello allenato senza le principali parole chiave\n",
    "Per mettere più in difficoltà il classificatore rifacciamo le stesse procedure ma inserendo alcune parole chiave (solo quelle usate per costruire il dataset tramite API) nelle stop words."
   ]
  },
  {
   "cell_type": "code",
   "execution_count": 15,
   "id": "2cb8c3d5",
   "metadata": {},
   "outputs": [
    {
     "name": "stdout",
     "output_type": "stream",
     "text": [
      "F1-score:  [0.90855705 0.94294044 0.92426187 0.95261239 0.92010602 0.94532199\n",
      " 0.90298783]\n",
      "0.9277509763381576\n"
     ]
    },
    {
     "data": {
      "text/plain": [
       "<sklearn.metrics._plot.confusion_matrix.ConfusionMatrixDisplay at 0x1d0ad7c8640>"
      ]
     },
     "execution_count": 15,
     "metadata": {},
     "output_type": "execute_result"
    },
    {
     "data": {
      "image/png": "[encoded data removed]",
      "text/plain": [
       "<Figure size 432x288 with 2 Axes>"
      ]
     },
     "metadata": {
      "needs_background": "light"
     },
     "output_type": "display_data"
    }
   ],
   "source": [
    "# stopwords list \n",
    "stop_words = stopwords.words('english')\n",
    "stop_words.append(\"RT\")\n",
    "stop_words.append(\"@\")\n",
    "stop_words.append(\"#\")\n",
    "\n",
    "#Inseriamo alcune parole chiave per vedere come si comporta il classificatore\n",
    "\n",
    "stop_words.append(\"bitcoin\")\n",
    "\n",
    "stop_words.append(\"covid\")\n",
    "stop_words.append(\"coronavirus\")\n",
    "stop_words.append(\"covid19\")\n",
    "\n",
    "stop_words.append(\"donald\")\n",
    "stop_words.append(\"trump\")\n",
    "stop_words.append(\"Impeachment\")\n",
    "\n",
    "stop_words.append(\"Metaverse\")\n",
    "stop_words.append(\"meta\")\n",
    "\n",
    "stop_words.append(\"climate\")\n",
    "\n",
    "#sono le compagnie aeree citate nei tweet (in ogni tweet ne viene citata almeno una tra le 6)\n",
    "stop_words.append(\"VirginAmerica\")\n",
    "stop_words.append(\"united\")\n",
    "stop_words.append(\"SouthwestAir\")\n",
    "stop_words.append(\"JetBlue\")\n",
    "stop_words.append(\"USairways\")\n",
    "stop_words.append(\"AmericanAir\")\n",
    "\n",
    "stop_words.append(\"Ukraine\")\n",
    "stop_words.append(\"Russia\")\n",
    "Tweet = pd.concat([dfAir,dfBTC,dfCC,dfCV,dfMT,dfImp,dfwarUKRU], ignore_index=True)\n",
    "#nel dubbio facciamo una drop sui na\n",
    "Tweet = Tweet.dropna(how='any')\n",
    "\n",
    "r = range(len(Tweet))\n",
    "for i in r:\n",
    "    word_tokens = word_tokenize(Tweet.iloc[i][0]) \n",
    "    filtered_sentence = [w for w in word_tokens if not w in stop_words]\n",
    "    new_text = TreebankWordDetokenizer().detokenize(filtered_sentence)\n",
    "    Tweet.iloc[i][0] = new_text\n",
    "    \n",
    "text = Tweet['tweet_text']\n",
    "labels = Tweet['topic']\n",
    "\n",
    "X_train, X_test, y_train, y_test = train_test_split(text, labels, test_size=0.25, random_state=0)\n",
    "\n",
    "count_vect2 = CountVectorizer()\n",
    "vec_data_train = count_vect2.fit_transform(X_train)\n",
    "\n",
    "mnb2 = MultinomialNB()\n",
    "mnb2.fit(vec_data_train, y_train)\n",
    "\n",
    "vec_data_test = count_vect2.transform(X_test)\n",
    "pred = mnb2.predict(vec_data_test)\n",
    "\n",
    "f1_scores = f1_score(y_test,pred,average=None)\n",
    "print(\"F1-score: \", f1_scores)\n",
    "print(accuracy_score(y_test, pred))\n",
    "ConfusionMatrixDisplay.from_predictions(y_test,pred,xticks_rotation='vertical')"
   ]
  },
  {
   "cell_type": "markdown",
   "id": "dfff5f1f",
   "metadata": {},
   "source": [
    "Nonostante siano state rimosse parole chiave il classificatore sembra comunque comportarsi molto bene. <br>\n",
    "Ovviamente è meglio usare il primo classificatore in quanto è abbastanza probabile trovare parole chiave nei testi in genere."
   ]
  },
  {
   "cell_type": "markdown",
   "id": "8396b56f",
   "metadata": {},
   "source": [
    "Liberiamo un pò la memoria eliminando 2 variabili molto dispendiose che da ora in poi non serviranno."
   ]
  },
  {
   "cell_type": "code",
   "execution_count": 16,
   "id": "ead10f85",
   "metadata": {},
   "outputs": [],
   "source": [
    "del mnb2\n",
    "del pred"
   ]
  },
  {
   "cell_type": "markdown",
   "id": "2e15c185",
   "metadata": {},
   "source": [
    "## 5. Proviamo a migliorare ulteriormente il modello tramite la rappresentazione TF-IDF\n",
    "Facciamo riferimento al set di tweets in cui non abbiamo inserito le parole chiave tra le stop words."
   ]
  },
  {
   "cell_type": "code",
   "execution_count": 17,
   "id": "08c051f2",
   "metadata": {},
   "outputs": [],
   "source": [
    "from sklearn.feature_extraction.text import TfidfTransformer\n",
    "tf_transformer = TfidfTransformer()\n",
    "\n",
    "Tweet = pd.concat([dfAir,dfBTC,dfCC,dfCV,dfMT,dfImp,dfwarUKRU], ignore_index=True)\n",
    "#nel dubbio facciamo una drop sui na\n",
    "Tweet = Tweet.dropna(how='any')\n",
    "stop_words = stopwords.words(\"english\")\n",
    "stop_words.append(\"RT\")\n",
    "stop_words.append(\"@\")\n",
    "stop_words.append(\"#\")\n",
    "\n",
    "r = range(len(Tweet))\n",
    "for i in r:\n",
    "    word_tokens = word_tokenize(Tweet.iloc[i][0]) \n",
    "    filtered_sentence = [w for w in word_tokens if not w in stop_words]\n",
    "    new_text = TreebankWordDetokenizer().detokenize(filtered_sentence)\n",
    "    Tweet.iloc[i][0] = new_text\n",
    "    \n",
    "\n",
    "    \n",
    "text = Tweet['tweet_text']\n",
    "labels = Tweet['topic']\n",
    "\n",
    "X_train, X_test, y_train, y_test = train_test_split(text, labels, test_size=0.25, random_state=0)\n",
    "\n",
    "count_vect3 = CountVectorizer()\n",
    "vec_data_train = count_vect3.fit_transform(X_train)\n",
    "vec_data_train_tfIdf = tf_transformer.fit_transform(vec_data_train)\n",
    "\n",
    "vec_data_test = count_vect3.transform(X_test)\n",
    "vec_data_test_tfIdf = tf_transformer.fit_transform(vec_data_test)"
   ]
  },
  {
   "cell_type": "markdown",
   "id": "f67b8fcb",
   "metadata": {},
   "source": [
    "Usiamo la funzione GaussianNB in quanto MultinomialNB non è adatta per lavorare con rappresentazioni come la TF-IDF perchè il modello richiede dei numeri interi. <br>\n",
    "La funzione fit di GaussianNB richiede dei dati densi e non accetta una sparse matrix come MultinomialNB."
   ]
  },
  {
   "cell_type": "code",
   "execution_count": 18,
   "id": "7ea33427",
   "metadata": {},
   "outputs": [
    {
     "data": {
      "text/plain": [
       "GaussianNB()"
      ]
     },
     "execution_count": 18,
     "metadata": {},
     "output_type": "execute_result"
    }
   ],
   "source": [
    "from sklearn.naive_bayes import GaussianNB\n",
    "gnb = GaussianNB()\n",
    "gnb.fit(vec_data_train_tfIdf.toarray(), y_train)"
   ]
  },
  {
   "cell_type": "code",
   "execution_count": 19,
   "id": "f31e6228",
   "metadata": {},
   "outputs": [
    {
     "name": "stdout",
     "output_type": "stream",
     "text": [
      "F1-score:  [0.79334917 0.87020906 0.88080631 0.74625551 0.68932749 0.92848485\n",
      " 0.7258578 ]\n",
      "0.8007121525384792\n"
     ]
    },
    {
     "data": {
      "text/plain": [
       "<sklearn.metrics._plot.confusion_matrix.ConfusionMatrixDisplay at 0x1d0af71c3d0>"
      ]
     },
     "execution_count": 19,
     "metadata": {},
     "output_type": "execute_result"
    },
    {
     "data": {
      "image/png": "[encoded data removed]",
      "text/plain": [
       "<Figure size 432x288 with 2 Axes>"
      ]
     },
     "metadata": {
      "needs_background": "light"
     },
     "output_type": "display_data"
    }
   ],
   "source": [
    "pred = gnb.predict(vec_data_test_tfIdf.toarray())\n",
    "\n",
    "f1_scores = f1_score(y_test,pred,average=None)\n",
    "print(\"F1-score: \", f1_scores)\n",
    "print(accuracy_score(y_test, pred))\n",
    "ConfusionMatrixDisplay.from_predictions(y_test,pred,xticks_rotation='vertical')"
   ]
  },
  {
   "cell_type": "markdown",
   "id": "ffcefd4d",
   "metadata": {},
   "source": [
    "La situazione è ancora abbastanza favorevole, ma gli F1-score sono un po' più piccoli, sembra dunque comportarsi meglio il modello basato su Multinomial Naive Bayes con rappresentazione Bag of Words rispetto al modello Gaussian Naive Bayes con rappresentazione TF-IDF."
   ]
  },
  {
   "cell_type": "markdown",
   "id": "de1a436d",
   "metadata": {},
   "source": [
    "## 6. Sentiment analysis sui vari tweets\n",
    "### Verifichiamo se in media gli utenti tendono a parlare in maniera positiva o negativa riguardo a un certo topic\n",
    "Come primo step, tramite il pacchetto nltk facciamo il download di vader_lexicon. <br>\n",
    "Vader_lexicon è un dataset di coppie, dove ogni coppia è composta da un lexicon e un livello di sentimento associato ad esso. <br>\n",
    "Il lexicon non è necessariamente una normale parola come si potrebbe pensare inizialmente, il lexicon può essere una qualunque stringa che vuole esprimere un concetto come ad esempio ' :) '."
   ]
  },
  {
   "cell_type": "code",
   "execution_count": 20,
   "id": "594fe2c6",
   "metadata": {},
   "outputs": [
    {
     "name": "stderr",
     "output_type": "stream",
     "text": [
      "[nltk_data] Downloading package vader_lexicon to\n",
      "[nltk_data]     C:\\Users\\samue\\AppData\\Roaming\\nltk_data...\n",
      "[nltk_data]   Package vader_lexicon is already up-to-date!\n"
     ]
    },
    {
     "data": {
      "text/plain": [
       "True"
      ]
     },
     "execution_count": 20,
     "metadata": {},
     "output_type": "execute_result"
    }
   ],
   "source": [
    "import nltk\n",
    "nltk.download('vader_lexicon')"
   ]
  },
  {
   "cell_type": "markdown",
   "id": "f00979e7",
   "metadata": {},
   "source": [
    "Tramite la funzione SentimentIntensityAnalyzer creiamo l'oggetto per l'analisi del sentimento."
   ]
  },
  {
   "cell_type": "code",
   "execution_count": 21,
   "id": "e7ebde69",
   "metadata": {},
   "outputs": [],
   "source": [
    "from nltk.sentiment.vader import SentimentIntensityAnalyzer\n",
    "SID = SentimentIntensityAnalyzer()"
   ]
  },
  {
   "cell_type": "markdown",
   "id": "edb3c2d7",
   "metadata": {},
   "source": [
    "Riorganizziamo il dataset, ovviamente non riutilizziamo il dataset a cui sono stati rimossi dei token, piuttosto usiamo l'originale."
   ]
  },
  {
   "cell_type": "code",
   "execution_count": 22,
   "id": "5b2e4b80",
   "metadata": {},
   "outputs": [],
   "source": [
    "Tweet = pd.concat([dfAir,dfBTC,dfCC,dfCV,dfMT,dfImp,dfwarUKRU], ignore_index=True)\n",
    "#nel dubbio facciamo una drop sui na\n",
    "Tweet = Tweet.dropna(how='any')"
   ]
  },
  {
   "cell_type": "markdown",
   "id": "26dcd41b",
   "metadata": {},
   "source": [
    "Nel dataset avremo un'ulteriore colonna oltre a tweet_text e topic, la chiamiamo SI, che sta per Sentiment Intensity. <br>\n",
    "A ogni tweet associamo dunque il suo livello di polarità."
   ]
  },
  {
   "cell_type": "code",
   "execution_count": 23,
   "id": "5b05199b",
   "metadata": {},
   "outputs": [],
   "source": [
    "rows, cols = Tweet.shape\n",
    "SI = []\n",
    "for i in range(rows):\n",
    "    SI.append(SID.polarity_scores(Tweet.iloc[i]['tweet_text'])['compound'])"
   ]
  },
  {
   "cell_type": "code",
   "execution_count": 24,
   "id": "1edc7843",
   "metadata": {},
   "outputs": [
    {
     "data": {
      "text/html": [
       "<div>\n",
       "<style scoped>\n",
       "    .dataframe tbody tr th:only-of-type {\n",
       "        vertical-align: middle;\n",
       "    }\n",
       "\n",
       "    .dataframe tbody tr th {\n",
       "        vertical-align: top;\n",
       "    }\n",
       "\n",
       "    .dataframe thead th {\n",
       "        text-align: right;\n",
       "    }\n",
       "</style>\n",
       "<table border=\"1\" class=\"dataframe\">\n",
       "  <thead>\n",
       "    <tr style=\"text-align: right;\">\n",
       "      <th></th>\n",
       "      <th>tweet_text</th>\n",
       "      <th>topic</th>\n",
       "      <th>SI</th>\n",
       "    </tr>\n",
       "  </thead>\n",
       "  <tbody>\n",
       "    <tr>\n",
       "      <th>0</th>\n",
       "      <td>@united DM'd you 4 hrs ago at your request. No...</td>\n",
       "      <td>USair</td>\n",
       "      <td>0.0772</td>\n",
       "    </tr>\n",
       "    <tr>\n",
       "      <th>1</th>\n",
       "      <td>@SouthwestAir Free TV watching Daytona 500! #B...</td>\n",
       "      <td>USair</td>\n",
       "      <td>0.5562</td>\n",
       "    </tr>\n",
       "    <tr>\n",
       "      <th>2</th>\n",
       "      <td>@USAirways - so far so good this week. SAV to ...</td>\n",
       "      <td>USair</td>\n",
       "      <td>0.6556</td>\n",
       "    </tr>\n",
       "    <tr>\n",
       "      <th>3</th>\n",
       "      <td>@AmericanAir you can't change my flights and n...</td>\n",
       "      <td>USair</td>\n",
       "      <td>0.0000</td>\n",
       "    </tr>\n",
       "    <tr>\n",
       "      <th>4</th>\n",
       "      <td>@AmericanAir u r horrible.went online to Cance...</td>\n",
       "      <td>USair</td>\n",
       "      <td>-0.2500</td>\n",
       "    </tr>\n",
       "    <tr>\n",
       "      <th>...</th>\n",
       "      <td>...</td>\n",
       "      <td>...</td>\n",
       "      <td>...</td>\n",
       "    </tr>\n",
       "    <tr>\n",
       "      <th>34995</th>\n",
       "      <td>Scholz: \"I don't want war with Russia. I only ...</td>\n",
       "      <td>warUKRU</td>\n",
       "      <td>0.4449</td>\n",
       "    </tr>\n",
       "    <tr>\n",
       "      <th>34996</th>\n",
       "      <td>RT @Quicktake âOur common goal is to prevent...</td>\n",
       "      <td>warUKRU</td>\n",
       "      <td>-0.2732</td>\n",
       "    </tr>\n",
       "    <tr>\n",
       "      <th>34997</th>\n",
       "      <td>Russia and Ukraineâ¦.the media pushing for war.</td>\n",
       "      <td>warUKRU</td>\n",
       "      <td>-0.5994</td>\n",
       "    </tr>\n",
       "    <tr>\n",
       "      <th>34998</th>\n",
       "      <td>@OliviaLazard @Gemenne Thanks for the brutal i...</td>\n",
       "      <td>warUKRU</td>\n",
       "      <td>-0.0516</td>\n",
       "    </tr>\n",
       "    <tr>\n",
       "      <th>34999</th>\n",
       "      <td>Yo I get Jan 6 was terrible, but with a loomin...</td>\n",
       "      <td>warUKRU</td>\n",
       "      <td>-0.9231</td>\n",
       "    </tr>\n",
       "  </tbody>\n",
       "</table>\n",
       "<p>34824 rows × 3 columns</p>\n",
       "</div>"
      ],
      "text/plain": [
       "                                              tweet_text    topic      SI\n",
       "0      @united DM'd you 4 hrs ago at your request. No...    USair  0.0772\n",
       "1      @SouthwestAir Free TV watching Daytona 500! #B...    USair  0.5562\n",
       "2      @USAirways - so far so good this week. SAV to ...    USair  0.6556\n",
       "3      @AmericanAir you can't change my flights and n...    USair  0.0000\n",
       "4      @AmericanAir u r horrible.went online to Cance...    USair -0.2500\n",
       "...                                                  ...      ...     ...\n",
       "34995  Scholz: \"I don't want war with Russia. I only ...  warUKRU  0.4449\n",
       "34996  RT @Quicktake âOur common goal is to prevent...  warUKRU -0.2732\n",
       "34997   Russia and Ukraineâ¦.the media pushing for war.  warUKRU -0.5994\n",
       "34998  @OliviaLazard @Gemenne Thanks for the brutal i...  warUKRU -0.0516\n",
       "34999  Yo I get Jan 6 was terrible, but with a loomin...  warUKRU -0.9231\n",
       "\n",
       "[34824 rows x 3 columns]"
      ]
     },
     "execution_count": 24,
     "metadata": {},
     "output_type": "execute_result"
    }
   ],
   "source": [
    "Tweet = Tweet.assign(SI = SI)\n",
    "Tweet"
   ]
  },
  {
   "cell_type": "code",
   "execution_count": 25,
   "id": "29b88371",
   "metadata": {},
   "outputs": [
    {
     "data": {
      "text/html": [
       "<div>\n",
       "<style scoped>\n",
       "    .dataframe tbody tr th:only-of-type {\n",
       "        vertical-align: middle;\n",
       "    }\n",
       "\n",
       "    .dataframe tbody tr th {\n",
       "        vertical-align: top;\n",
       "    }\n",
       "\n",
       "    .dataframe thead th {\n",
       "        text-align: right;\n",
       "    }\n",
       "</style>\n",
       "<table border=\"1\" class=\"dataframe\">\n",
       "  <thead>\n",
       "    <tr style=\"text-align: right;\">\n",
       "      <th></th>\n",
       "      <th>topic</th>\n",
       "      <th>SI</th>\n",
       "    </tr>\n",
       "  </thead>\n",
       "  <tbody>\n",
       "    <tr>\n",
       "      <th>0</th>\n",
       "      <td>USair</td>\n",
       "      <td>0.0772</td>\n",
       "    </tr>\n",
       "    <tr>\n",
       "      <th>1</th>\n",
       "      <td>USair</td>\n",
       "      <td>0.5562</td>\n",
       "    </tr>\n",
       "    <tr>\n",
       "      <th>2</th>\n",
       "      <td>USair</td>\n",
       "      <td>0.6556</td>\n",
       "    </tr>\n",
       "    <tr>\n",
       "      <th>3</th>\n",
       "      <td>USair</td>\n",
       "      <td>0.0000</td>\n",
       "    </tr>\n",
       "    <tr>\n",
       "      <th>4</th>\n",
       "      <td>USair</td>\n",
       "      <td>-0.2500</td>\n",
       "    </tr>\n",
       "    <tr>\n",
       "      <th>...</th>\n",
       "      <td>...</td>\n",
       "      <td>...</td>\n",
       "    </tr>\n",
       "    <tr>\n",
       "      <th>34995</th>\n",
       "      <td>warUKRU</td>\n",
       "      <td>0.4449</td>\n",
       "    </tr>\n",
       "    <tr>\n",
       "      <th>34996</th>\n",
       "      <td>warUKRU</td>\n",
       "      <td>-0.2732</td>\n",
       "    </tr>\n",
       "    <tr>\n",
       "      <th>34997</th>\n",
       "      <td>warUKRU</td>\n",
       "      <td>-0.5994</td>\n",
       "    </tr>\n",
       "    <tr>\n",
       "      <th>34998</th>\n",
       "      <td>warUKRU</td>\n",
       "      <td>-0.0516</td>\n",
       "    </tr>\n",
       "    <tr>\n",
       "      <th>34999</th>\n",
       "      <td>warUKRU</td>\n",
       "      <td>-0.9231</td>\n",
       "    </tr>\n",
       "  </tbody>\n",
       "</table>\n",
       "<p>34824 rows × 2 columns</p>\n",
       "</div>"
      ],
      "text/plain": [
       "         topic      SI\n",
       "0        USair  0.0772\n",
       "1        USair  0.5562\n",
       "2        USair  0.6556\n",
       "3        USair  0.0000\n",
       "4        USair -0.2500\n",
       "...        ...     ...\n",
       "34995  warUKRU  0.4449\n",
       "34996  warUKRU -0.2732\n",
       "34997  warUKRU -0.5994\n",
       "34998  warUKRU -0.0516\n",
       "34999  warUKRU -0.9231\n",
       "\n",
       "[34824 rows x 2 columns]"
      ]
     },
     "execution_count": 25,
     "metadata": {},
     "output_type": "execute_result"
    }
   ],
   "source": [
    "Tweet.drop('tweet_text', axis=1, inplace=True)\n",
    "Tweet"
   ]
  },
  {
   "cell_type": "markdown",
   "id": "c10ec1b2",
   "metadata": {},
   "source": [
    "Riprendendo la documentazione di Vader, il compound (che nella tabella prende il nome \"SI\") è un valore tra -1 e 1, dove -1 indica un sentimento fortemente negativo e 1 indica un sentimento fortemente positivo. <br>\n",
    "Possiamo a questo punto capire il valore medio del compound (o \"SI\") per ogni topic. <br>"
   ]
  },
  {
   "cell_type": "code",
   "execution_count": 26,
   "id": "621ba2fc",
   "metadata": {},
   "outputs": [
    {
     "data": {
      "text/html": [
       "<div>\n",
       "<style scoped>\n",
       "    .dataframe tbody tr th:only-of-type {\n",
       "        vertical-align: middle;\n",
       "    }\n",
       "\n",
       "    .dataframe tbody tr th {\n",
       "        vertical-align: top;\n",
       "    }\n",
       "\n",
       "    .dataframe thead th {\n",
       "        text-align: right;\n",
       "    }\n",
       "</style>\n",
       "<table border=\"1\" class=\"dataframe\">\n",
       "  <thead>\n",
       "    <tr style=\"text-align: right;\">\n",
       "      <th></th>\n",
       "      <th>SI</th>\n",
       "    </tr>\n",
       "    <tr>\n",
       "      <th>topic</th>\n",
       "      <th></th>\n",
       "    </tr>\n",
       "  </thead>\n",
       "  <tbody>\n",
       "    <tr>\n",
       "      <th>Imp</th>\n",
       "      <td>-0.016441</td>\n",
       "    </tr>\n",
       "    <tr>\n",
       "      <th>USair</th>\n",
       "      <td>0.046324</td>\n",
       "    </tr>\n",
       "    <tr>\n",
       "      <th>bitcoin</th>\n",
       "      <td>0.184008</td>\n",
       "    </tr>\n",
       "    <tr>\n",
       "      <th>climateChange</th>\n",
       "      <td>-0.034875</td>\n",
       "    </tr>\n",
       "    <tr>\n",
       "      <th>covid</th>\n",
       "      <td>0.055027</td>\n",
       "    </tr>\n",
       "    <tr>\n",
       "      <th>meta</th>\n",
       "      <td>0.364790</td>\n",
       "    </tr>\n",
       "    <tr>\n",
       "      <th>warUKRU</th>\n",
       "      <td>-0.495262</td>\n",
       "    </tr>\n",
       "  </tbody>\n",
       "</table>\n",
       "</div>"
      ],
      "text/plain": [
       "                     SI\n",
       "topic                  \n",
       "Imp           -0.016441\n",
       "USair          0.046324\n",
       "bitcoin        0.184008\n",
       "climateChange -0.034875\n",
       "covid          0.055027\n",
       "meta           0.364790\n",
       "warUKRU       -0.495262"
      ]
     },
     "execution_count": 26,
     "metadata": {},
     "output_type": "execute_result"
    }
   ],
   "source": [
    "SItopic = Tweet.groupby('topic').mean()\n",
    "SItopic"
   ]
  },
  {
   "cell_type": "markdown",
   "id": "42fbfe2c",
   "metadata": {},
   "source": [
    "Calcoliamo e visualizziamo anche la varianza per capire almeno in parte quanto possano essere affidabili questi valori medi."
   ]
  },
  {
   "cell_type": "code",
   "execution_count": 27,
   "id": "a7a1877a",
   "metadata": {},
   "outputs": [
    {
     "data": {
      "text/html": [
       "<div>\n",
       "<style scoped>\n",
       "    .dataframe tbody tr th:only-of-type {\n",
       "        vertical-align: middle;\n",
       "    }\n",
       "\n",
       "    .dataframe tbody tr th {\n",
       "        vertical-align: top;\n",
       "    }\n",
       "\n",
       "    .dataframe thead th {\n",
       "        text-align: right;\n",
       "    }\n",
       "</style>\n",
       "<table border=\"1\" class=\"dataframe\">\n",
       "  <thead>\n",
       "    <tr style=\"text-align: right;\">\n",
       "      <th></th>\n",
       "      <th>SI</th>\n",
       "    </tr>\n",
       "    <tr>\n",
       "      <th>topic</th>\n",
       "      <th></th>\n",
       "    </tr>\n",
       "  </thead>\n",
       "  <tbody>\n",
       "    <tr>\n",
       "      <th>Imp</th>\n",
       "      <td>0.176887</td>\n",
       "    </tr>\n",
       "    <tr>\n",
       "      <th>USair</th>\n",
       "      <td>0.207276</td>\n",
       "    </tr>\n",
       "    <tr>\n",
       "      <th>bitcoin</th>\n",
       "      <td>0.127491</td>\n",
       "    </tr>\n",
       "    <tr>\n",
       "      <th>climateChange</th>\n",
       "      <td>0.158434</td>\n",
       "    </tr>\n",
       "    <tr>\n",
       "      <th>covid</th>\n",
       "      <td>0.237663</td>\n",
       "    </tr>\n",
       "    <tr>\n",
       "      <th>meta</th>\n",
       "      <td>0.173018</td>\n",
       "    </tr>\n",
       "    <tr>\n",
       "      <th>warUKRU</th>\n",
       "      <td>0.213180</td>\n",
       "    </tr>\n",
       "  </tbody>\n",
       "</table>\n",
       "</div>"
      ],
      "text/plain": [
       "                     SI\n",
       "topic                  \n",
       "Imp            0.176887\n",
       "USair          0.207276\n",
       "bitcoin        0.127491\n",
       "climateChange  0.158434\n",
       "covid          0.237663\n",
       "meta           0.173018\n",
       "warUKRU        0.213180"
      ]
     },
     "execution_count": 27,
     "metadata": {},
     "output_type": "execute_result"
    }
   ],
   "source": [
    "VarSItopic = Tweet.groupby('topic').var()\n",
    "VarSItopic"
   ]
  },
  {
   "cell_type": "markdown",
   "id": "32d1cdb1",
   "metadata": {},
   "source": [
    "Oltre alle varianze guardiamo i vari istogrammi per capire quanti elementi sono vicini alla media (e quindi si capisce ad occhio se la media è affidabile)."
   ]
  },
  {
   "cell_type": "code",
   "execution_count": 28,
   "id": "3665ad81",
   "metadata": {},
   "outputs": [],
   "source": [
    "TweetImp = Tweet[Tweet[\"topic\"]==\"Imp\"]\n",
    "TweetUSair = Tweet[Tweet[\"topic\"]==\"USair\"]\n",
    "Tweetbitcoin = Tweet[Tweet[\"topic\"]==\"bitcoin\"]\n",
    "TweetclimateChange = Tweet[Tweet[\"topic\"]==\"climateChange\"]\n",
    "Tweetcovid = Tweet[Tweet[\"topic\"]==\"covid\"]\n",
    "Tweetmeta = Tweet[Tweet[\"topic\"]==\"meta\"]\n",
    "Tweetwar = Tweet[Tweet[\"topic\"]==\"warUKRU\"]"
   ]
  },
  {
   "cell_type": "code",
   "execution_count": 29,
   "id": "45d4981d",
   "metadata": {},
   "outputs": [
    {
     "data": {
      "image/png": "[encoded data removed]",
      "text/plain": [
       "<Figure size 432x288 with 1 Axes>"
      ]
     },
     "metadata": {
      "needs_background": "light"
     },
     "output_type": "display_data"
    }
   ],
   "source": [
    "import matplotlib\n",
    "plt = matplotlib.pyplot.hist(TweetImp)"
   ]
  },
  {
   "cell_type": "code",
   "execution_count": 30,
   "id": "c7d32384",
   "metadata": {},
   "outputs": [
    {
     "data": {
      "image/png": "[encoded data removed]",
      "text/plain": [
       "<Figure size 432x288 with 1 Axes>"
      ]
     },
     "metadata": {
      "needs_background": "light"
     },
     "output_type": "display_data"
    }
   ],
   "source": [
    "plt = matplotlib.pyplot.hist(TweetUSair)"
   ]
  },
  {
   "cell_type": "code",
   "execution_count": 31,
   "id": "02967520",
   "metadata": {},
   "outputs": [
    {
     "data": {
      "image/png": "[encoded data removed]",
      "text/plain": [
       "<Figure size 432x288 with 1 Axes>"
      ]
     },
     "metadata": {
      "needs_background": "light"
     },
     "output_type": "display_data"
    }
   ],
   "source": [
    "plt = matplotlib.pyplot.hist(Tweetbitcoin)"
   ]
  },
  {
   "cell_type": "code",
   "execution_count": 32,
   "id": "42cc38bb",
   "metadata": {},
   "outputs": [
    {
     "data": {
      "image/png": "[encoded data removed]",
      "text/plain": [
       "<Figure size 432x288 with 1 Axes>"
      ]
     },
     "metadata": {
      "needs_background": "light"
     },
     "output_type": "display_data"
    }
   ],
   "source": [
    "plt = matplotlib.pyplot.hist(TweetclimateChange)"
   ]
  },
  {
   "cell_type": "code",
   "execution_count": 33,
   "id": "8b0ad4c8",
   "metadata": {},
   "outputs": [
    {
     "data": {
      "image/png": "[encoded data removed]",
      "text/plain": [
       "<Figure size 432x288 with 1 Axes>"
      ]
     },
     "metadata": {
      "needs_background": "light"
     },
     "output_type": "display_data"
    }
   ],
   "source": [
    "plt = matplotlib.pyplot.hist(Tweetcovid)"
   ]
  },
  {
   "cell_type": "code",
   "execution_count": 34,
   "id": "08c3b217",
   "metadata": {},
   "outputs": [
    {
     "data": {
      "image/png": "[encoded data removed]",
      "text/plain": [
       "<Figure size 432x288 with 1 Axes>"
      ]
     },
     "metadata": {
      "needs_background": "light"
     },
     "output_type": "display_data"
    }
   ],
   "source": [
    "plt = matplotlib.pyplot.hist(Tweetmeta)"
   ]
  },
  {
   "cell_type": "code",
   "execution_count": 35,
   "id": "ddbc161c",
   "metadata": {},
   "outputs": [
    {
     "data": {
      "image/png": "[encoded data removed]",
      "text/plain": [
       "<Figure size 432x288 with 1 Axes>"
      ]
     },
     "metadata": {
      "needs_background": "light"
     },
     "output_type": "display_data"
    }
   ],
   "source": [
    "plt = matplotlib.pyplot.hist(Tweetwar)"
   ]
  },
  {
   "cell_type": "markdown",
   "id": "f172d23a",
   "metadata": {},
   "source": [
    "Creiamo un plotbar per visualizzare la differenza di sentimento espresso in base al topic."
   ]
  },
  {
   "cell_type": "code",
   "execution_count": 36,
   "id": "09162688",
   "metadata": {},
   "outputs": [
    {
     "data": {
      "image/png": "[encoded data removed]",
      "text/plain": [
       "<Figure size 432x288 with 1 Axes>"
      ]
     },
     "metadata": {
      "needs_background": "light"
     },
     "output_type": "display_data"
    }
   ],
   "source": [
    "import matplotlib.pyplot as plt\n",
    "\n",
    "SItopic.plot.bar(y = 'SI')\n",
    "\n",
    "plt.xlabel('Topic')\n",
    "plt.ylabel('livello del sentimento')\n",
    "\n",
    "plt.legend(['Sentiment Intensity'])\n",
    "\n",
    "plt.ylim(-1, 1)\n",
    "\n",
    "plt.hlines(0, -1, 6, color='red',linestyles='dashed')\n",
    "\n",
    "plt.show()\n"
   ]
  },
  {
   "cell_type": "markdown",
   "id": "37bbf81b",
   "metadata": {},
   "source": [
    "Si nota ad esempio una forte differenza tra il topic del metaverso e il topic dei cambiamenti climatici. <br>\n",
    "Questa differenza effettivamente è concorde a quello che avremmo potuto pensare senza fare analisi del sentimento, cioè le persone tendono ad essere più positive quando si parla di \"metaverso\" rispetto a quando si parla di \"cambiamenti climatici\"."
   ]
  },
  {
   "cell_type": "markdown",
   "id": "9e55cdf8",
   "metadata": {},
   "source": [
    "## Classifichiamo i tweets ottenuti grazie a delle API"
   ]
  },
  {
   "cell_type": "markdown",
   "id": "826aba78",
   "metadata": {},
   "source": [
    "### Catturiamo tweets sulle news da alcuni canali di informazione\n",
    "Prendiamo, grazie alle API offerte da Twitter, i tweets relativi alle news. Per farlo prendiamo i tweets di alcuni profili dedicati alla pubblicazione di informazioni d'attualità. <br>\n",
    "I canali da cui prenderemo i tweets sono i seguenti:\n",
    "> - @60Minutes\n",
    "> - @PuckNews\n",
    "> - @HuffPost\n",
    "> - @usatodayDC\n",
    "> - @nytimes\n",
    "> - @politico\n",
    "> - @BostonGlobe\n",
    "> - @CBSNews\n",
    "> - @bopinion\n",
    "> - @washingtonpost"
   ]
  },
  {
   "cell_type": "markdown",
   "id": "ffbb7b05",
   "metadata": {},
   "source": [
    "Otteniamo l'accesso alle API"
   ]
  },
  {
   "cell_type": "code",
   "execution_count": 37,
   "id": "8594edc0",
   "metadata": {},
   "outputs": [],
   "source": [
    "import yaml\n",
    "\n",
    "with open(\"psw.yml\", \"r\") as stream:\n",
    "    psw = yaml.safe_load(stream)"
   ]
  },
  {
   "cell_type": "code",
   "execution_count": 38,
   "id": "9fa0b2d1",
   "metadata": {},
   "outputs": [
    {
     "name": "stdout",
     "output_type": "stream",
     "text": [
      "<class 'twitter.api.Api'>\n"
     ]
    }
   ],
   "source": [
    "import twitter\n",
    "api = twitter.Api(consumer_key=str(psw['consumer_key']),\n",
    " consumer_secret=str(psw['consumer_secret']),\n",
    " access_token_key=str(psw['access_token_key']),\n",
    " access_token_secret=str(psw['access_token_secret']))\n",
    "print(type(api))"
   ]
  },
  {
   "cell_type": "markdown",
   "id": "b03fdd90",
   "metadata": {},
   "source": [
    "Tramite le API otteniamo gli oggetti relativi ai profili Twitter desiderati, li conserviamo nella lista \"channels\""
   ]
  },
  {
   "cell_type": "code",
   "execution_count": 39,
   "id": "7d8993f1",
   "metadata": {},
   "outputs": [],
   "source": [
    "channels = []\n",
    "channels.append(api.GetUser(screen_name='@60minutes'))\n",
    "channels.append(api.GetUser(screen_name='@PuckNews'))\n",
    "channels.append(api.GetUser(screen_name='@HuffPost'))\n",
    "channels.append(api.GetUser(screen_name='@usatodayDC'))\n",
    "channels.append(api.GetUser(screen_name='@nytimes'))\n",
    "channels.append(api.GetUser(screen_name='@politico'))\n",
    "channels.append(api.GetUser(screen_name='@BostonGlobe'))\n",
    "channels.append(api.GetUser(screen_name='@CBSNews'))\n",
    "channels.append(api.GetUser(screen_name='@bopinion'))\n",
    "channels.append(api.GetUser(screen_name='@washingtonpost'))"
   ]
  },
  {
   "cell_type": "markdown",
   "id": "1a1c089f",
   "metadata": {},
   "source": [
    "Otteniamo adesso gli ultimi tweets dei vari profili."
   ]
  },
  {
   "cell_type": "code",
   "execution_count": 40,
   "id": "3da6ee40",
   "metadata": {},
   "outputs": [],
   "source": [
    "last_tweets = []\n",
    "for i in range(len(channels)):\n",
    "    last_tweets = last_tweets + api.GetUserTimeline(channels[i].id,count=20)"
   ]
  },
  {
   "cell_type": "markdown",
   "id": "114d4505",
   "metadata": {},
   "source": [
    "Estraiamo i testi dei tweets."
   ]
  },
  {
   "cell_type": "code",
   "execution_count": 41,
   "id": "6dc72b3e",
   "metadata": {},
   "outputs": [],
   "source": [
    "last_tweets_text = []\n",
    "for i in range(len(last_tweets)):\n",
    "    last_tweets_text.append(last_tweets[i].text)"
   ]
  },
  {
   "cell_type": "markdown",
   "id": "422ca462",
   "metadata": {},
   "source": [
    "Otteniamo ora la rappresentazione BOW dei nostri tweets e usiamo la funzione predict_proba per predire le classi. <br>\n",
    "La predict_proba ci permette di capire quale è la probabilità che il tweet abbia una certa classe, associando una percentuale ad ognuna delle possibili classi.<br> Se un tweet dovesse avere tutte le probabilità al di sotto di una certa soglia possiamo dedurre che il tweet non faccia parte di nessuna classe (assegnamo una classe \"Altro\").\n",
    "**Esempio**: supponiamo le classi siano 4 e usando la predict_proba otteniamo il vettore [0.25, 0.4, 0.175, 0.175], se la nostra soglia fosse 0.5 nessuna delle 4 classi verrebbe assegnata. Se ci fossero delle classi le cui probabilità sono superiori alla soglia, la classe assegnata sarebbe ovviamente quella di probabilità maggiore.  <br>"
   ]
  },
  {
   "cell_type": "code",
   "execution_count": 42,
   "id": "f71dad9b",
   "metadata": {},
   "outputs": [],
   "source": [
    "BOW_tweets = count_vect1.transform(last_tweets_text)\n",
    "preds = mnb1.predict_proba(BOW_tweets)\n",
    "classesNumb = []\n",
    "\n",
    "for p in preds:\n",
    "    c = len(mnb1.classes_) #è la classe \"Altro\"\n",
    "    \n",
    "    max = 0.0\n",
    "    i_max = -1\n",
    "    for i in range(len(p)):\n",
    "        if p[i] > max:\n",
    "            max = p[i]\n",
    "            i_max = i\n",
    "    \n",
    "    #imponiamo una certa soglia di certezza\n",
    "    if max > 0.70:\n",
    "        c = i_max\n",
    "\n",
    "    classesNumb.append(c)\n",
    "    \n",
    "#\"convertiamo\" le label delle classi in stringhe\n",
    "classes = []\n",
    "for c in classesNumb:\n",
    "    cSTR = \"Altro\"\n",
    "    if c < len(mnb1.classes_):\n",
    "        cSTR = mnb1.classes_[c]\n",
    "    classes.append(cSTR)"
   ]
  },
  {
   "cell_type": "markdown",
   "id": "df009b25",
   "metadata": {},
   "source": [
    "Contiamo le occorrenze di ogni classe."
   ]
  },
  {
   "cell_type": "code",
   "execution_count": 43,
   "id": "f5fcdfd9",
   "metadata": {},
   "outputs": [],
   "source": [
    "from collections import Counter\n",
    "counts = Counter(classes)"
   ]
  },
  {
   "cell_type": "markdown",
   "id": "ed20a12e",
   "metadata": {},
   "source": [
    "Possiamo ora determinare il topic di cui si è più discusso di recente."
   ]
  },
  {
   "cell_type": "code",
   "execution_count": 44,
   "id": "ef5a6ccc",
   "metadata": {},
   "outputs": [
    {
     "data": {
      "image/png": "[encoded data removed]",
      "text/plain": [
       "<Figure size 432x288 with 1 Axes>"
      ]
     },
     "metadata": {
      "needs_background": "light"
     },
     "output_type": "display_data"
    }
   ],
   "source": [
    "n = len(mnb1.classes_) + 1\n",
    "x = range(n)\n",
    "x_ticks_labels = mnb1.classes_\n",
    "x_ticks_labels = np.append(x_ticks_labels,\"Altro\")\n",
    "y = [0] * n\n",
    "for i in range(n):\n",
    "    y[i] = counts[x_ticks_labels[i]]\n",
    "fig, ax = plt.subplots(1,1) \n",
    "ax.bar(x,y)\n",
    "\n",
    "ax.set_xticks(x)\n",
    "\n",
    "ax.set_xticklabels(x_ticks_labels, rotation='vertical', fontsize=18)\n",
    "plt.show()"
   ]
  },
  {
   "cell_type": "markdown",
   "id": "2241a72b",
   "metadata": {},
   "source": [
    "## 7. Conclusioni"
   ]
  },
  {
   "cell_type": "markdown",
   "id": "c453daa1",
   "metadata": {},
   "source": [
    "Tramite un classificatore ben istruito e grazie alle API per estrarre i tweets più recenti sulle notizie d'attualità, si è visto come sia possibile determinare i topic più discussi. Ovviamente si potrebbe istruire il classificatore su ulteriori topic invece di limitarne il range a poche unità, come è stato fatto per questo modello."
   ]
  }
 ],
 "metadata": {
  "kernelspec": {
   "display_name": "Python 3",
   "language": "python",
   "name": "python3"
  },
  "language_info": {
   "codemirror_mode": {
    "name": "ipython",
    "version": 3
   },
   "file_extension": ".py",
   "mimetype": "text/x-python",
   "name": "python",
   "nbconvert_exporter": "python",
   "pygments_lexer": "ipython3",
   "version": "3.8.8"
  }
 },
 "nbformat": 4,
 "nbformat_minor": 5
}
