{
 "cells": [
  {
   "cell_type": "markdown",
   "id": "36cd3966",
   "metadata": {},
   "source": [
    "# Progetto per il corso di Social Media Management"
   ]
  },
  {
   "cell_type": "markdown",
   "id": "f2d2f8aa",
   "metadata": {},
   "source": [
    "> #### Informazioni studente e corso\n",
    ">\n",
    "> - **Nome**: Samuele Maria\n",
    "> - **Cognome**: Gallina\n",
    "> - **Matricola**: 100001478\n",
    "> - **Corso**: Social Media Management\n",
    "> - **Anno accademico**: 2021/2022"
   ]
  },
  {
   "cell_type": "markdown",
   "id": "47458508",
   "metadata": {},
   "source": [
    "## 1. Introduzione"
   ]
  },
  {
   "cell_type": "markdown",
   "id": "57e2c361",
   "metadata": {},
   "source": [
    "Nel seguente progetto sarà realizzato un classificatore di topic dato un testo. <br>\n",
    "In particolare i testi saranno i contenuti di vari tweets, a causa dei limiti temporali che impongono le API di Twitter, per ottenere il set di dati invece di ottenerli tramite delle richieste verranno ottenuti semplicemente da dei file dove sono conservati questi dati. <br>\n",
    "Per il training saranno dati in input diversi testi, ogni testo ha una label che ne indica il topic. <br>\n",
    "L'obiettivo è creare un sistema che datogli un testo riesca a capire quale sia il suo topic."
   ]
  },
  {
   "cell_type": "markdown",
   "id": "30d9c820",
   "metadata": {},
   "source": [
    "## 2. Costruzione del dataset"
   ]
  },
  {
   "cell_type": "markdown",
   "id": "64350dab",
   "metadata": {},
   "source": [
    "Per costruire il dataset saranno usati dei dataset più piccoli che verranno poi uniti, ogni dataset è relativo a un topic.<br>\n",
    "Lista dei topic:\n",
    "> - Compagnie Americane di voli\n",
    "> - Metaverso\n",
    "> - Covid/Vaccino\n",
    "> - Bitcoin\n",
    "> - Cambiamenti climatici\n",
    "> - Impeachment di Trump 2021"
   ]
  },
  {
   "cell_type": "markdown",
   "id": "dc48fdbe",
   "metadata": {},
   "source": [
    "I dataset sono stati presi dai seguenti link <br>\n",
    "> - https://data.world/socialmediadata/twitter-us-airline-sentiment/workspace/file?filename=Airline-Sentiment-2-w-AA.csv\n",
    "> - https://www.kaggle.com/datasets/mathurinache/metaverse-tweets\n",
    "> - https://www.kaggle.com/datasets/yazanshannak/us-covid-tweets\n",
    "> - https://www.kaggle.com/datasets/skularat/bitcoin-tweets\n",
    "> - https://www.kaggle.com/datasets/edqian/twitter-climate-change-sentiment-dataset\n",
    "> - https://www.kaggle.com/datasets/jazmiaevonhenry/impeachment-tweet-data"
   ]
  },
  {
   "cell_type": "markdown",
   "id": "972695fd",
   "metadata": {},
   "source": [
    "Ognuno di essi è stato modificato affinchè ogni dataset contenesse 5000 osservazioni e che ogni osservazione fosse composta da 2 attributi ovvero: tweet_text (banalmente il testo del tweet) e topic"
   ]
  },
  {
   "cell_type": "code",
   "execution_count": 3,
   "id": "578053ff",
   "metadata": {},
   "outputs": [],
   "source": [
    "import pandas as pd"
   ]
  },
  {
   "cell_type": "code",
   "execution_count": 4,
   "id": "ba4b62f8",
   "metadata": {},
   "outputs": [
    {
     "data": {
      "text/html": [
       "<div>\n",
       "<style scoped>\n",
       "    .dataframe tbody tr th:only-of-type {\n",
       "        vertical-align: middle;\n",
       "    }\n",
       "\n",
       "    .dataframe tbody tr th {\n",
       "        vertical-align: top;\n",
       "    }\n",
       "\n",
       "    .dataframe thead th {\n",
       "        text-align: right;\n",
       "    }\n",
       "</style>\n",
       "<table border=\"1\" class=\"dataframe\">\n",
       "  <thead>\n",
       "    <tr style=\"text-align: right;\">\n",
       "      <th></th>\n",
       "      <th>tweet_text</th>\n",
       "      <th>topic</th>\n",
       "    </tr>\n",
       "  </thead>\n",
       "  <tbody>\n",
       "    <tr>\n",
       "      <th>0</th>\n",
       "      <td>@united DM'd you 4 hrs ago at your request. No...</td>\n",
       "      <td>USair</td>\n",
       "    </tr>\n",
       "    <tr>\n",
       "      <th>1</th>\n",
       "      <td>@SouthwestAir Free TV watching Daytona 500! #B...</td>\n",
       "      <td>USair</td>\n",
       "    </tr>\n",
       "    <tr>\n",
       "      <th>2</th>\n",
       "      <td>@USAirways - so far so good this week. SAV to ...</td>\n",
       "      <td>USair</td>\n",
       "    </tr>\n",
       "    <tr>\n",
       "      <th>3</th>\n",
       "      <td>@AmericanAir you can't change my flights and n...</td>\n",
       "      <td>USair</td>\n",
       "    </tr>\n",
       "    <tr>\n",
       "      <th>4</th>\n",
       "      <td>@AmericanAir u r horrible.went online to Cance...</td>\n",
       "      <td>USair</td>\n",
       "    </tr>\n",
       "  </tbody>\n",
       "</table>\n",
       "</div>"
      ],
      "text/plain": [
       "                                          tweet_text  topic\n",
       "0  @united DM'd you 4 hrs ago at your request. No...  USair\n",
       "1  @SouthwestAir Free TV watching Daytona 500! #B...  USair\n",
       "2  @USAirways - so far so good this week. SAV to ...  USair\n",
       "3  @AmericanAir you can't change my flights and n...  USair\n",
       "4  @AmericanAir u r horrible.went online to Cance...  USair"
      ]
     },
     "execution_count": 4,
     "metadata": {},
     "output_type": "execute_result"
    }
   ],
   "source": [
    "dfAir = pd.read_csv ('datasets/USair.csv',encoding='latin-1')\n",
    "dfAir.head()"
   ]
  },
  {
   "cell_type": "code",
   "execution_count": 5,
   "id": "61ff4c58",
   "metadata": {},
   "outputs": [
    {
     "data": {
      "text/html": [
       "<div>\n",
       "<style scoped>\n",
       "    .dataframe tbody tr th:only-of-type {\n",
       "        vertical-align: middle;\n",
       "    }\n",
       "\n",
       "    .dataframe tbody tr th {\n",
       "        vertical-align: top;\n",
       "    }\n",
       "\n",
       "    .dataframe thead th {\n",
       "        text-align: right;\n",
       "    }\n",
       "</style>\n",
       "<table border=\"1\" class=\"dataframe\">\n",
       "  <thead>\n",
       "    <tr style=\"text-align: right;\">\n",
       "      <th></th>\n",
       "      <th>tweet_text</th>\n",
       "      <th>topic</th>\n",
       "    </tr>\n",
       "  </thead>\n",
       "  <tbody>\n",
       "    <tr>\n",
       "      <th>0</th>\n",
       "      <td>RT @GymRewards: https://t.co/Bm9sIxiiwU  Check...</td>\n",
       "      <td>bitcoin</td>\n",
       "    </tr>\n",
       "    <tr>\n",
       "      <th>1</th>\n",
       "      <td>Install CryptoTab and mine Bitcoin! https://t....</td>\n",
       "      <td>bitcoin</td>\n",
       "    </tr>\n",
       "    <tr>\n",
       "      <th>2</th>\n",
       "      <td>RT @bethereumteam: Today we are presenting Bet...</td>\n",
       "      <td>bitcoin</td>\n",
       "    </tr>\n",
       "    <tr>\n",
       "      <th>3</th>\n",
       "      <td>Bug Caught That Allowed Coinbase Users to Garn...</td>\n",
       "      <td>bitcoin</td>\n",
       "    </tr>\n",
       "    <tr>\n",
       "      <th>4</th>\n",
       "      <td>RT @Khanoisseur: Securing government systems a...</td>\n",
       "      <td>bitcoin</td>\n",
       "    </tr>\n",
       "  </tbody>\n",
       "</table>\n",
       "</div>"
      ],
      "text/plain": [
       "                                          tweet_text    topic\n",
       "0  RT @GymRewards: https://t.co/Bm9sIxiiwU  Check...  bitcoin\n",
       "1  Install CryptoTab and mine Bitcoin! https://t....  bitcoin\n",
       "2  RT @bethereumteam: Today we are presenting Bet...  bitcoin\n",
       "3  Bug Caught That Allowed Coinbase Users to Garn...  bitcoin\n",
       "4  RT @Khanoisseur: Securing government systems a...  bitcoin"
      ]
     },
     "execution_count": 5,
     "metadata": {},
     "output_type": "execute_result"
    }
   ],
   "source": [
    "dfBTC = pd.read_csv ('datasets/bitcoin.csv',encoding='latin-1')\n",
    "dfBTC.head()"
   ]
  },
  {
   "cell_type": "code",
   "execution_count": 6,
   "id": "7feb1348",
   "metadata": {},
   "outputs": [
    {
     "data": {
      "text/html": [
       "<div>\n",
       "<style scoped>\n",
       "    .dataframe tbody tr th:only-of-type {\n",
       "        vertical-align: middle;\n",
       "    }\n",
       "\n",
       "    .dataframe tbody tr th {\n",
       "        vertical-align: top;\n",
       "    }\n",
       "\n",
       "    .dataframe thead th {\n",
       "        text-align: right;\n",
       "    }\n",
       "</style>\n",
       "<table border=\"1\" class=\"dataframe\">\n",
       "  <thead>\n",
       "    <tr style=\"text-align: right;\">\n",
       "      <th></th>\n",
       "      <th>tweet_text</th>\n",
       "      <th>topic</th>\n",
       "    </tr>\n",
       "  </thead>\n",
       "  <tbody>\n",
       "    <tr>\n",
       "      <th>0</th>\n",
       "      <td>ÃÂ¢Ã",
       "Â¡ÃÂ¡ The Paris Agreement on climate ch...</td>\n",
       "      <td>climateChange</td>\n",
       "    </tr>\n",
       "    <tr>\n",
       "      <th>1</th>\n",
       "      <td>@drewf000 in this way Jainism actually helps i...</td>\n",
       "      <td>climateChange</td>\n",
       "    </tr>\n",
       "    <tr>\n",
       "      <th>2</th>\n",
       "      <td>RT @sierraclub: âFuture Generationsâ Sue O...</td>\n",
       "      <td>climateChange</td>\n",
       "    </tr>\n",
       "    <tr>\n",
       "      <th>3</th>\n",
       "      <td>RT @mrkjsnsbyn: pls use your voices on climate...</td>\n",
       "      <td>climateChange</td>\n",
       "    </tr>\n",
       "    <tr>\n",
       "      <th>4</th>\n",
       "      <td>RT @GrouciDjamila: For all those who still nee...</td>\n",
       "      <td>climateChange</td>\n",
       "    </tr>\n",
       "  </tbody>\n",
       "</table>\n",
       "</div>"
      ],
      "text/plain": [
       "                                          tweet_text          topic\n",
       "0  ÃÂ¢Ã\n",
       "Â¡ÃÂ¡ The Paris Agreement on climate ch...  climateChange\n",
       "1  @drewf000 in this way Jainism actually helps i...  climateChange\n",
       "2  RT @sierraclub: âFuture Generationsâ Sue O...  climateChange\n",
       "3  RT @mrkjsnsbyn: pls use your voices on climate...  climateChange\n",
       "4  RT @GrouciDjamila: For all those who still nee...  climateChange"
      ]
     },
     "execution_count": 6,
     "metadata": {},
     "output_type": "execute_result"
    }
   ],
   "source": [
    "dfCC = pd.read_csv ('datasets/climateChange.csv',encoding='latin-1')\n",
    "dfCC.head()"
   ]
  },
  {
   "cell_type": "code",
   "execution_count": 7,
   "id": "58b44c7b",
   "metadata": {},
   "outputs": [
    {
     "data": {
      "text/html": [
       "<div>\n",
       "<style scoped>\n",
       "    .dataframe tbody tr th:only-of-type {\n",
       "        vertical-align: middle;\n",
       "    }\n",
       "\n",
       "    .dataframe tbody tr th {\n",
       "        vertical-align: top;\n",
       "    }\n",
       "\n",
       "    .dataframe thead th {\n",
       "        text-align: right;\n",
       "    }\n",
       "</style>\n",
       "<table border=\"1\" class=\"dataframe\">\n",
       "  <thead>\n",
       "    <tr style=\"text-align: right;\">\n",
       "      <th></th>\n",
       "      <th>tweet_text</th>\n",
       "      <th>topic</th>\n",
       "    </tr>\n",
       "  </thead>\n",
       "  <tbody>\n",
       "    <tr>\n",
       "      <th>0</th>\n",
       "      <td>Thinking about how much has changed in a year ...</td>\n",
       "      <td>covid</td>\n",
       "    </tr>\n",
       "    <tr>\n",
       "      <th>1</th>\n",
       "      <td>A beautiful gesture  \\r\\n#ottnews  #Ottawa  #C...</td>\n",
       "      <td>covid</td>\n",
       "    </tr>\n",
       "    <tr>\n",
       "      <th>2</th>\n",
       "      <td>Spite is becoming more overrated by the hour! ...</td>\n",
       "      <td>covid</td>\n",
       "    </tr>\n",
       "    <tr>\n",
       "      <th>3</th>\n",
       "      <td>Destroying nature unleashes destructive diseas...</td>\n",
       "      <td>covid</td>\n",
       "    </tr>\n",
       "    <tr>\n",
       "      <th>4</th>\n",
       "      <td># COVID19  can't get out more. Gotta keep the ...</td>\n",
       "      <td>covid</td>\n",
       "    </tr>\n",
       "  </tbody>\n",
       "</table>\n",
       "</div>"
      ],
      "text/plain": [
       "                                          tweet_text  topic\n",
       "0  Thinking about how much has changed in a year ...  covid\n",
       "1  A beautiful gesture  \\r\\n#ottnews  #Ottawa  #C...  covid\n",
       "2  Spite is becoming more overrated by the hour! ...  covid\n",
       "3  Destroying nature unleashes destructive diseas...  covid\n",
       "4  # COVID19  can't get out more. Gotta keep the ...  covid"
      ]
     },
     "execution_count": 7,
     "metadata": {},
     "output_type": "execute_result"
    }
   ],
   "source": [
    "dfCV = pd.read_csv ('datasets/covid.csv',encoding='latin-1')\n",
    "dfCV.head()"
   ]
  },
  {
   "cell_type": "code",
   "execution_count": 8,
   "id": "c1a903bf",
   "metadata": {},
   "outputs": [
    {
     "data": {
      "text/html": [
       "<div>\n",
       "<style scoped>\n",
       "    .dataframe tbody tr th:only-of-type {\n",
       "        vertical-align: middle;\n",
       "    }\n",
       "\n",
       "    .dataframe tbody tr th {\n",
       "        vertical-align: top;\n",
       "    }\n",
       "\n",
       "    .dataframe thead th {\n",
       "        text-align: right;\n",
       "    }\n",
       "</style>\n",
       "<table border=\"1\" class=\"dataframe\">\n",
       "  <thead>\n",
       "    <tr style=\"text-align: right;\">\n",
       "      <th></th>\n",
       "      <th>tweet_text</th>\n",
       "      <th>topic</th>\n",
       "    </tr>\n",
       "  </thead>\n",
       "  <tbody>\n",
       "    <tr>\n",
       "      <th>0</th>\n",
       "      <td>@algometaspatial Good and perfect project to e...</td>\n",
       "      <td>meta</td>\n",
       "    </tr>\n",
       "    <tr>\n",
       "      <th>1</th>\n",
       "      <td>Holding #saitama or #SHIB Then REALITY is \\r\\n...</td>\n",
       "      <td>meta</td>\n",
       "    </tr>\n",
       "    <tr>\n",
       "      <th>2</th>\n",
       "      <td>@KnightMonter11 always success for the develop...</td>\n",
       "      <td>meta</td>\n",
       "    </tr>\n",
       "    <tr>\n",
       "      <th>3</th>\n",
       "      <td>@kudomoney @AvStarCapital that's is really min...</td>\n",
       "      <td>meta</td>\n",
       "    </tr>\n",
       "    <tr>\n",
       "      <th>4</th>\n",
       "      <td>Feeling like it could finally be my turn to ha...</td>\n",
       "      <td>meta</td>\n",
       "    </tr>\n",
       "  </tbody>\n",
       "</table>\n",
       "</div>"
      ],
      "text/plain": [
       "                                          tweet_text topic\n",
       "0  @algometaspatial Good and perfect project to e...  meta\n",
       "1  Holding #saitama or #SHIB Then REALITY is \\r\\n...  meta\n",
       "2  @KnightMonter11 always success for the develop...  meta\n",
       "3  @kudomoney @AvStarCapital that's is really min...  meta\n",
       "4  Feeling like it could finally be my turn to ha...  meta"
      ]
     },
     "execution_count": 8,
     "metadata": {},
     "output_type": "execute_result"
    }
   ],
   "source": [
    "dfMT = pd.read_csv ('datasets/meta.csv',encoding='latin-1')\n",
    "dfMT.head()"
   ]
  },
  {
   "cell_type": "code",
   "execution_count": 9,
   "id": "5ebaf3f5",
   "metadata": {},
   "outputs": [
    {
     "data": {
      "text/html": [
       "<div>\n",
       "<style scoped>\n",
       "    .dataframe tbody tr th:only-of-type {\n",
       "        vertical-align: middle;\n",
       "    }\n",
       "\n",
       "    .dataframe tbody tr th {\n",
       "        vertical-align: top;\n",
       "    }\n",
       "\n",
       "    .dataframe thead th {\n",
       "        text-align: right;\n",
       "    }\n",
       "</style>\n",
       "<table border=\"1\" class=\"dataframe\">\n",
       "  <thead>\n",
       "    <tr style=\"text-align: right;\">\n",
       "      <th></th>\n",
       "      <th>tweet_text</th>\n",
       "      <th>topic</th>\n",
       "    </tr>\n",
       "  </thead>\n",
       "  <tbody>\n",
       "    <tr>\n",
       "      <th>0</th>\n",
       "      <td>Disgusting dead beat dad cheated on his wife a...</td>\n",
       "      <td>Imp</td>\n",
       "    </tr>\n",
       "    <tr>\n",
       "      <th>1</th>\n",
       "      <td>RT During trumps 2nd impeachment trial there s...</td>\n",
       "      <td>Imp</td>\n",
       "    </tr>\n",
       "    <tr>\n",
       "      <th>2</th>\n",
       "      <td>RT Al Green amp Company</td>\n",
       "      <td>Imp</td>\n",
       "    </tr>\n",
       "    <tr>\n",
       "      <th>3</th>\n",
       "      <td>House Democrats are proposing to limit the nex...</td>\n",
       "      <td>Imp</td>\n",
       "    </tr>\n",
       "    <tr>\n",
       "      <th>4</th>\n",
       "      <td>Have enough courage to do your job or step asi...</td>\n",
       "      <td>Imp</td>\n",
       "    </tr>\n",
       "  </tbody>\n",
       "</table>\n",
       "</div>"
      ],
      "text/plain": [
       "                                          tweet_text topic\n",
       "0  Disgusting dead beat dad cheated on his wife a...   Imp\n",
       "1  RT During trumps 2nd impeachment trial there s...   Imp\n",
       "2                            RT Al Green amp Company   Imp\n",
       "3  House Democrats are proposing to limit the nex...   Imp\n",
       "4  Have enough courage to do your job or step asi...   Imp"
      ]
     },
     "execution_count": 9,
     "metadata": {},
     "output_type": "execute_result"
    }
   ],
   "source": [
    "dfImp = pd.read_csv ('datasets/Imp.csv',encoding='latin-1')\n",
    "dfImp.head()"
   ]
  },
  {
   "cell_type": "markdown",
   "id": "aa4c0602",
   "metadata": {},
   "source": [
    "Creiamo un unico grande dataset con una merge"
   ]
  },
  {
   "cell_type": "code",
   "execution_count": 10,
   "id": "28020933",
   "metadata": {},
   "outputs": [
    {
     "name": "stdout",
     "output_type": "stream",
     "text": [
      "<class 'pandas.core.frame.DataFrame'>\n",
      "Int64Index: 29824 entries, 0 to 29999\n",
      "Data columns (total 2 columns):\n",
      " #   Column      Non-Null Count  Dtype \n",
      "---  ------      --------------  ----- \n",
      " 0   tweet_text  29824 non-null  object\n",
      " 1   topic       29824 non-null  object\n",
      "dtypes: object(2)\n",
      "memory usage: 699.0+ KB\n"
     ]
    }
   ],
   "source": [
    "Tweet = pd.concat([dfAir,dfBTC,dfCC,dfCV,dfMT,dfImp], ignore_index=True)\n",
    "#nel dubbio facciamo una drop sui na\n",
    "Tweet = Tweet.dropna(how='any')\n",
    "Tweet.info()"
   ]
  },
  {
   "cell_type": "markdown",
   "id": "92bfc7a9",
   "metadata": {},
   "source": [
    "## Usiamo Bag of Words"
   ]
  },
  {
   "cell_type": "markdown",
   "id": "1ff5bc23",
   "metadata": {},
   "source": [
    "Dobbiamo trovare un modo per rappresentare i testi per allenare l'algoritmo di classificazione, a tal proposito iniziamo usando una semplice rappresentazione Bag of Words. <br>\n",
    "Come passo preliminare però rimuoviamo le stop words all'interno dei tweets, ci sono diverse words che potrebbero risultare fastidiose come \"RT\" (sta per retweet) che normalmente non sarebbe una stop word ma la rimuoviamo comunque dato che è molto presente nel dataset."
   ]
  },
  {
   "cell_type": "markdown",
   "id": "be5b1902",
   "metadata": {},
   "source": [
    "### Preprocessing"
   ]
  },
  {
   "cell_type": "code",
   "execution_count": 11,
   "id": "fbf78360",
   "metadata": {},
   "outputs": [],
   "source": [
    "from nltk.corpus import stopwords  \n",
    "from nltk.tokenize import word_tokenize\n",
    "\n",
    "# stopwords list \n",
    "stop_words = stopwords.words('english')\n",
    "stop_words.append(\"RT\")\n",
    "stop_words.append(\"@\")\n",
    "stop_words.append(\"#\")"
   ]
  },
  {
   "cell_type": "code",
   "execution_count": 12,
   "id": "0c0ed83d",
   "metadata": {},
   "outputs": [],
   "source": [
    "from nltk.tokenize.treebank import TreebankWordDetokenizer\n",
    "r = range(len(Tweet))\n",
    "for i in r:\n",
    "    word_tokens = word_tokenize(Tweet.iloc[i][0]) \n",
    "    filtered_sentence = [w for w in word_tokens if not w in stop_words]\n",
    "    new_text = TreebankWordDetokenizer().detokenize(filtered_sentence)\n",
    "    Tweet.iloc[i][0] = new_text"
   ]
  },
  {
   "cell_type": "markdown",
   "id": "243f4077",
   "metadata": {},
   "source": [
    "## Costruiamo il classificatore"
   ]
  },
  {
   "cell_type": "code",
   "execution_count": 13,
   "id": "11434560",
   "metadata": {},
   "outputs": [],
   "source": [
    "text = Tweet['tweet_text']\n",
    "labels = Tweet['topic']"
   ]
  },
  {
   "cell_type": "code",
   "execution_count": 24,
   "id": "464f2f5b",
   "metadata": {},
   "outputs": [],
   "source": [
    "from sklearn.feature_extraction.text import CountVectorizer\n",
    "from sklearn.model_selection import train_test_split\n",
    "\n",
    "X_train, X_test, y_train, y_test = train_test_split(text, labels, test_size=0.25, random_state=0)\n",
    "\n",
    "count_vect1 = CountVectorizer()\n",
    "vec_data_train = count_vect1.fit_transform(X_train)"
   ]
  },
  {
   "cell_type": "code",
   "execution_count": 25,
   "id": "b4cf37d5",
   "metadata": {},
   "outputs": [
    {
     "name": "stdout",
     "output_type": "stream",
     "text": [
      "0.9381706008583691\n",
      "F1-score:  [0.93539212 0.93791391 0.92431973 0.95886198 0.92248657 0.94911147]\n"
     ]
    },
    {
     "data": {
      "text/plain": [
       "<sklearn.metrics._plot.confusion_matrix.ConfusionMatrixDisplay at 0x1f2016eac70>"
      ]
     },
     "execution_count": 25,
     "metadata": {},
     "output_type": "execute_result"
    },
    {
     "data": {
      "image/png": "[encoded data removed]",
      "text/plain": [
       "<Figure size 432x288 with 2 Axes>"
      ]
     },
     "metadata": {
      "needs_background": "light"
     },
     "output_type": "display_data"
    }
   ],
   "source": [
    "from sklearn.naive_bayes import MultinomialNB\n",
    "from sklearn.metrics import f1_score, accuracy_score, classification_report , confusion_matrix\n",
    "import numpy as np\n",
    "\n",
    "mnb1 = MultinomialNB()\n",
    "mnb1.fit(vec_data_train, y_train)\n",
    "\n",
    "vec_data_test = count_vect1.transform(X_test)\n",
    "pred = mnb1.predict(vec_data_test)\n",
    "\n",
    "#print(f1_score(y_test, pred))\n",
    "print(accuracy_score(y_test, pred))\n",
    "\n",
    "f1_scores = f1_score(y_test,pred,average=None)\n",
    "print(\"F1-score: \", f1_scores)\n",
    "\n",
    "#print(precision_score(y_test, pred))\n",
    "from sklearn.metrics import ConfusionMatrixDisplay\n",
    "ConfusionMatrixDisplay.from_predictions(y_test,pred,xticks_rotation='vertical')"
   ]
  },
  {
   "cell_type": "markdown",
   "id": "b97b3d11",
   "metadata": {},
   "source": [
    "In realtà non c'è molto da stupirsi di questi risultati, questo perchè i dataset sono costruiti con parole chiave. <br>\n",
    "Per mettere più in difficoltà il classificatore rifacciamo le stesse procedure ma inserendo alcune parole chiave (solo quelle usate per costruire il dataset tramite API) nelle stop words"
   ]
  },
  {
   "cell_type": "code",
   "execution_count": 23,
   "id": "2cb8c3d5",
   "metadata": {},
   "outputs": [
    {
     "name": "stdout",
     "output_type": "stream",
     "text": [
      "F1-score:  [0.93539212 0.93791391 0.92431973 0.95886198 0.92248657 0.94911147]\n",
      "0.9381706008583691\n"
     ]
    },
    {
     "data": {
      "text/plain": [
       "<sklearn.metrics._plot.confusion_matrix.ConfusionMatrixDisplay at 0x1f20163b9a0>"
      ]
     },
     "execution_count": 23,
     "metadata": {},
     "output_type": "execute_result"
    },
    {
     "data": {
      "image/png": "[encoded data removed]",
      "text/plain": [
       "<Figure size 432x288 with 2 Axes>"
      ]
     },
     "metadata": {
      "needs_background": "light"
     },
     "output_type": "display_data"
    }
   ],
   "source": [
    "# stopwords list \n",
    "stop_words = stopwords.words('english')\n",
    "stop_words.append(\"RT\")\n",
    "stop_words.append(\"@\")\n",
    "stop_words.append(\"#\")\n",
    "\n",
    "#Inseriamo alcune parole chiave per vedere come si comporta il classificatore\n",
    "\n",
    "stop_words.append(\"bitcoin\")\n",
    "\n",
    "stop_words.append(\"covid\")\n",
    "stop_words.append(\"coronavirus\")\n",
    "stop_words.append(\"covid19\")\n",
    "\n",
    "stop_words.append(\"donald\")\n",
    "stop_words.append(\"trump\")\n",
    "stop_words.append(\"Impeachment\")\n",
    "\n",
    "stop_words.append(\"Metaverse\")\n",
    "stop_words.append(\"meta\")\n",
    "\n",
    "stop_words.append(\"climate\")\n",
    "\n",
    "#sono le compagnie aeree citate nei tweet (in ogni tweet ne viene citata almeno una tra le 6)\n",
    "stop_words.append(\"VirginAmerica\")\n",
    "stop_words.append(\"united\")\n",
    "stop_words.append(\"SouthwestAir\")\n",
    "stop_words.append(\"JetBlue\")\n",
    "stop_words.append(\"USairways\")\n",
    "stop_words.append(\"AmericanAir\")\n",
    "\n",
    "Tweet = pd.concat([dfAir,dfBTC,dfCC,dfCV,dfMT,dfImp], ignore_index=True)\n",
    "#nel dubbio facciamo una drop sui na\n",
    "Tweet = Tweet.dropna(how='any')\n",
    "\n",
    "r = range(len(Tweet))\n",
    "for i in r:\n",
    "    word_tokens = word_tokenize(Tweet.iloc[i][0]) \n",
    "    filtered_sentence = [w for w in word_tokens if not w in stop_words]\n",
    "    new_text = TreebankWordDetokenizer().detokenize(filtered_sentence)\n",
    "    Tweet.iloc[i][0] = new_text\n",
    "    \n",
    "text = Tweet['tweet_text']\n",
    "labels = Tweet['topic']\n",
    "\n",
    "X_train, X_test, y_train, y_test = train_test_split(text, labels, test_size=0.25, random_state=0)\n",
    "\n",
    "count_vect2 = CountVectorizer()\n",
    "vec_data_train = count_vect2.fit_transform(X_train)\n",
    "\n",
    "mnb2 = MultinomialNB()\n",
    "mnb2.fit(vec_data_train, y_train)\n",
    "\n",
    "vec_data_test = count_vect2.transform(X_test)\n",
    "pred = mnb2.predict(vec_data_test)\n",
    "\n",
    "f1_scores = f1_score(y_test,pred,average=None)\n",
    "print(\"F1-score: \", f1_scores)\n",
    "print(accuracy_score(y_test, pred))\n",
    "ConfusionMatrixDisplay.from_predictions(y_test,pred,xticks_rotation='vertical')"
   ]
  },
  {
   "cell_type": "markdown",
   "id": "dfff5f1f",
   "metadata": {},
   "source": [
    "Nonostante siano state rimosse parole chiave il classificatore sembra comunque comportarsi molto bene. <br>\n",
    "Ovviamente è meglio usare il primo classificatore in quanto è abbastanza probabile trovare parole chiave nei testi in genere."
   ]
  },
  {
   "cell_type": "markdown",
   "id": "2e15c185",
   "metadata": {},
   "source": [
    "## Proviamo a migliorare ulteriormente il modello tramite la rappresentazione TF-IDF\n",
    "### Facciamo riferimento al primo modello"
   ]
  },
  {
   "cell_type": "code",
   "execution_count": 27,
   "id": "08c051f2",
   "metadata": {},
   "outputs": [],
   "source": [
    "from sklearn.feature_extraction.text import TfidfTransformer\n",
    "tf_transformer = TfidfTransformer()\n",
    "\n",
    "X_train, X_test, y_train, y_test = train_test_split(text, labels, test_size=0.25, random_state=0)\n",
    "\n",
    "count_vect3 = CountVectorizer()\n",
    "vec_data_train = count_vect3.fit_transform(X_train)\n",
    "vec_data_train_tfIdf = tf_transformer.fit_transform(vec_data_train)\n",
    "\n",
    "vec_data_test = count_vect3.transform(X_test)\n",
    "vec_data_test_tfIdf = tf_transformer.fit_transform(vec_data_test)"
   ]
  },
  {
   "cell_type": "code",
   "execution_count": 28,
   "id": "7ea33427",
   "metadata": {},
   "outputs": [
    {
     "data": {
      "text/plain": [
       "MultinomialNB()"
      ]
     },
     "execution_count": 28,
     "metadata": {},
     "output_type": "execute_result"
    }
   ],
   "source": [
    "mnb3 = MultinomialNB()\n",
    "mnb3.fit(vec_data_train_tfIdf, y_train)"
   ]
  },
  {
   "cell_type": "code",
   "execution_count": 29,
   "id": "f31e6228",
   "metadata": {},
   "outputs": [
    {
     "name": "stdout",
     "output_type": "stream",
     "text": [
      "F1-score:  [0.92851406 0.93025142 0.9131365  0.95577299 0.91760155 0.94634933]\n",
      "0.9321351931330472\n"
     ]
    },
    {
     "data": {
      "text/plain": [
       "<sklearn.metrics._plot.confusion_matrix.ConfusionMatrixDisplay at 0x1f27f33ee80>"
      ]
     },
     "execution_count": 29,
     "metadata": {},
     "output_type": "execute_result"
    },
    {
     "data": {
      "image/png": "[encoded data removed]",
      "text/plain": [
       "<Figure size 432x288 with 2 Axes>"
      ]
     },
     "metadata": {
      "needs_background": "light"
     },
     "output_type": "display_data"
    }
   ],
   "source": [
    "pred = mnb3.predict(vec_data_test_tfIdf)\n",
    "\n",
    "f1_scores = f1_score(y_test,pred,average=None)\n",
    "print(\"F1-score: \", f1_scores)\n",
    "print(accuracy_score(y_test, pred))\n",
    "ConfusionMatrixDisplay.from_predictions(y_test,pred,xticks_rotation='vertical')"
   ]
  },
  {
   "cell_type": "markdown",
   "id": "ffcefd4d",
   "metadata": {},
   "source": [
    "La situazione non sembra essere cambiata di molto, ma era prevedebile avendo già in principio un F1-score molto alto."
   ]
  },
  {
   "cell_type": "markdown",
   "id": "a5ea5152",
   "metadata": {},
   "source": [
    "# sistemare testi precedenti"
   ]
  },
  {
   "cell_type": "markdown",
   "id": "de1a436d",
   "metadata": {},
   "source": [
    "## applicare algoritmo vader sui vari topic per capire se le persone pensano in positivo o negativo riguardo a un certo topic"
   ]
  }
 ],
 "metadata": {
  "kernelspec": {
   "display_name": "Python 3",
   "language": "python",
   "name": "python3"
  },
  "language_info": {
   "codemirror_mode": {
    "name": "ipython",
    "version": 3
   },
   "file_extension": ".py",
   "mimetype": "text/x-python",
   "name": "python",
   "nbconvert_exporter": "python",
   "pygments_lexer": "ipython3",
   "version": "3.8.8"
  }
 },
 "nbformat": 4,
 "nbformat_minor": 5
}
